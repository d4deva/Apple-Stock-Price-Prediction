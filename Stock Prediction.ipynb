{
 "cells": [
  {
   "cell_type": "markdown",
   "metadata": {},
   "source": [
    "### Long Short-Term Memory (LSTM) networks are a type of recurrent neural network capable of learning order dependence in sequence prediction problems.\n",
    "\n"
   ]
  },
  {
   "cell_type": "code",
   "execution_count": 1,
   "metadata": {},
   "outputs": [],
   "source": [
    "#!pip install pandas_datareader\n",
    "#!pip install --upgrade tensorflow\n",
    "#!pip install --upgrade pip\n",
    "#!pip install tensorboard\n",
    "#!pip install tensorboard-plugin-wit\n",
    "#!pip install keras\n",
    "#!pip install tensorflow"
   ]
  },
  {
   "cell_type": "code",
   "execution_count": 2,
   "metadata": {},
   "outputs": [],
   "source": [
    "import pandas_datareader as pdr"
   ]
  },
  {
   "cell_type": "code",
   "execution_count": 3,
   "metadata": {},
   "outputs": [],
   "source": [
    "import pandas as pd \n",
    "import numpy as np\n",
    "import matplotlib.pyplot as plt"
   ]
  },
  {
   "cell_type": "code",
   "execution_count": 4,
   "metadata": {},
   "outputs": [],
   "source": [
    "key= 'Create Your key in Tiingo'"
   ]
  },
  {
   "cell_type": "code",
   "execution_count": 5,
   "metadata": {},
   "outputs": [],
   "source": [
    "df= pdr.get_data_tiingo('AAPL',api_key=key)"
   ]
  },
  {
   "cell_type": "code",
   "execution_count": 6,
   "metadata": {},
   "outputs": [
    {
     "data": {
      "text/html": [
       "<div>\n",
       "<style scoped>\n",
       "    .dataframe tbody tr th:only-of-type {\n",
       "        vertical-align: middle;\n",
       "    }\n",
       "\n",
       "    .dataframe tbody tr th {\n",
       "        vertical-align: top;\n",
       "    }\n",
       "\n",
       "    .dataframe thead th {\n",
       "        text-align: right;\n",
       "    }\n",
       "</style>\n",
       "<table border=\"1\" class=\"dataframe\">\n",
       "  <thead>\n",
       "    <tr style=\"text-align: right;\">\n",
       "      <th></th>\n",
       "      <th></th>\n",
       "      <th>close</th>\n",
       "      <th>high</th>\n",
       "      <th>low</th>\n",
       "      <th>open</th>\n",
       "      <th>volume</th>\n",
       "      <th>adjClose</th>\n",
       "      <th>adjHigh</th>\n",
       "      <th>adjLow</th>\n",
       "      <th>adjOpen</th>\n",
       "      <th>adjVolume</th>\n",
       "      <th>divCash</th>\n",
       "      <th>splitFactor</th>\n",
       "    </tr>\n",
       "    <tr>\n",
       "      <th>symbol</th>\n",
       "      <th>date</th>\n",
       "      <th></th>\n",
       "      <th></th>\n",
       "      <th></th>\n",
       "      <th></th>\n",
       "      <th></th>\n",
       "      <th></th>\n",
       "      <th></th>\n",
       "      <th></th>\n",
       "      <th></th>\n",
       "      <th></th>\n",
       "      <th></th>\n",
       "      <th></th>\n",
       "    </tr>\n",
       "  </thead>\n",
       "  <tbody>\n",
       "    <tr>\n",
       "      <td rowspan=\"5\" valign=\"top\">AAPL</td>\n",
       "      <td>2015-11-27 00:00:00+00:00</td>\n",
       "      <td>117.81</td>\n",
       "      <td>118.41</td>\n",
       "      <td>117.60</td>\n",
       "      <td>118.29</td>\n",
       "      <td>13046445</td>\n",
       "      <td>27.283451</td>\n",
       "      <td>27.422404</td>\n",
       "      <td>27.234817</td>\n",
       "      <td>27.394613</td>\n",
       "      <td>52185780</td>\n",
       "      <td>0.0</td>\n",
       "      <td>1.0</td>\n",
       "    </tr>\n",
       "    <tr>\n",
       "      <td>2015-11-30 00:00:00+00:00</td>\n",
       "      <td>118.30</td>\n",
       "      <td>119.41</td>\n",
       "      <td>117.75</td>\n",
       "      <td>117.99</td>\n",
       "      <td>39180322</td>\n",
       "      <td>27.396929</td>\n",
       "      <td>27.653993</td>\n",
       "      <td>27.269555</td>\n",
       "      <td>27.325137</td>\n",
       "      <td>156721288</td>\n",
       "      <td>0.0</td>\n",
       "      <td>1.0</td>\n",
       "    </tr>\n",
       "    <tr>\n",
       "      <td>2015-12-01 00:00:00+00:00</td>\n",
       "      <td>117.34</td>\n",
       "      <td>118.81</td>\n",
       "      <td>116.86</td>\n",
       "      <td>118.75</td>\n",
       "      <td>34852374</td>\n",
       "      <td>27.174604</td>\n",
       "      <td>27.515039</td>\n",
       "      <td>27.063442</td>\n",
       "      <td>27.501144</td>\n",
       "      <td>139409496</td>\n",
       "      <td>0.0</td>\n",
       "      <td>1.0</td>\n",
       "    </tr>\n",
       "    <tr>\n",
       "      <td>2015-12-02 00:00:00+00:00</td>\n",
       "      <td>116.28</td>\n",
       "      <td>118.11</td>\n",
       "      <td>116.08</td>\n",
       "      <td>117.05</td>\n",
       "      <td>33386563</td>\n",
       "      <td>26.929120</td>\n",
       "      <td>27.352927</td>\n",
       "      <td>26.882803</td>\n",
       "      <td>27.107443</td>\n",
       "      <td>133546252</td>\n",
       "      <td>0.0</td>\n",
       "      <td>1.0</td>\n",
       "    </tr>\n",
       "    <tr>\n",
       "      <td>2015-12-03 00:00:00+00:00</td>\n",
       "      <td>115.20</td>\n",
       "      <td>116.79</td>\n",
       "      <td>114.22</td>\n",
       "      <td>116.55</td>\n",
       "      <td>41569509</td>\n",
       "      <td>26.679005</td>\n",
       "      <td>27.047230</td>\n",
       "      <td>26.452048</td>\n",
       "      <td>26.991649</td>\n",
       "      <td>166278036</td>\n",
       "      <td>0.0</td>\n",
       "      <td>1.0</td>\n",
       "    </tr>\n",
       "  </tbody>\n",
       "</table>\n",
       "</div>"
      ],
      "text/plain": [
       "                                   close    high     low    open    volume  \\\n",
       "symbol date                                                                  \n",
       "AAPL   2015-11-27 00:00:00+00:00  117.81  118.41  117.60  118.29  13046445   \n",
       "       2015-11-30 00:00:00+00:00  118.30  119.41  117.75  117.99  39180322   \n",
       "       2015-12-01 00:00:00+00:00  117.34  118.81  116.86  118.75  34852374   \n",
       "       2015-12-02 00:00:00+00:00  116.28  118.11  116.08  117.05  33386563   \n",
       "       2015-12-03 00:00:00+00:00  115.20  116.79  114.22  116.55  41569509   \n",
       "\n",
       "                                   adjClose    adjHigh     adjLow    adjOpen  \\\n",
       "symbol date                                                                    \n",
       "AAPL   2015-11-27 00:00:00+00:00  27.283451  27.422404  27.234817  27.394613   \n",
       "       2015-11-30 00:00:00+00:00  27.396929  27.653993  27.269555  27.325137   \n",
       "       2015-12-01 00:00:00+00:00  27.174604  27.515039  27.063442  27.501144   \n",
       "       2015-12-02 00:00:00+00:00  26.929120  27.352927  26.882803  27.107443   \n",
       "       2015-12-03 00:00:00+00:00  26.679005  27.047230  26.452048  26.991649   \n",
       "\n",
       "                                  adjVolume  divCash  splitFactor  \n",
       "symbol date                                                        \n",
       "AAPL   2015-11-27 00:00:00+00:00   52185780      0.0          1.0  \n",
       "       2015-11-30 00:00:00+00:00  156721288      0.0          1.0  \n",
       "       2015-12-01 00:00:00+00:00  139409496      0.0          1.0  \n",
       "       2015-12-02 00:00:00+00:00  133546252      0.0          1.0  \n",
       "       2015-12-03 00:00:00+00:00  166278036      0.0          1.0  "
      ]
     },
     "execution_count": 6,
     "metadata": {},
     "output_type": "execute_result"
    }
   ],
   "source": [
    "df.head()"
   ]
  },
  {
   "cell_type": "code",
   "execution_count": 7,
   "metadata": {},
   "outputs": [],
   "source": [
    "df.to_csv('AAPL.csv')"
   ]
  },
  {
   "cell_type": "code",
   "execution_count": 8,
   "metadata": {},
   "outputs": [],
   "source": [
    "df = pd.read_csv(\"AAPL.csv\")"
   ]
  },
  {
   "cell_type": "code",
   "execution_count": 9,
   "metadata": {},
   "outputs": [
    {
     "data": {
      "text/html": [
       "<div>\n",
       "<style scoped>\n",
       "    .dataframe tbody tr th:only-of-type {\n",
       "        vertical-align: middle;\n",
       "    }\n",
       "\n",
       "    .dataframe tbody tr th {\n",
       "        vertical-align: top;\n",
       "    }\n",
       "\n",
       "    .dataframe thead th {\n",
       "        text-align: right;\n",
       "    }\n",
       "</style>\n",
       "<table border=\"1\" class=\"dataframe\">\n",
       "  <thead>\n",
       "    <tr style=\"text-align: right;\">\n",
       "      <th></th>\n",
       "      <th>symbol</th>\n",
       "      <th>date</th>\n",
       "      <th>close</th>\n",
       "      <th>high</th>\n",
       "      <th>low</th>\n",
       "      <th>open</th>\n",
       "      <th>volume</th>\n",
       "      <th>adjClose</th>\n",
       "      <th>adjHigh</th>\n",
       "      <th>adjLow</th>\n",
       "      <th>adjOpen</th>\n",
       "      <th>adjVolume</th>\n",
       "      <th>divCash</th>\n",
       "      <th>splitFactor</th>\n",
       "    </tr>\n",
       "  </thead>\n",
       "  <tbody>\n",
       "    <tr>\n",
       "      <td>0</td>\n",
       "      <td>AAPL</td>\n",
       "      <td>2015-11-27 00:00:00+00:00</td>\n",
       "      <td>117.81</td>\n",
       "      <td>118.41</td>\n",
       "      <td>117.60</td>\n",
       "      <td>118.29</td>\n",
       "      <td>13046445</td>\n",
       "      <td>27.283451</td>\n",
       "      <td>27.422404</td>\n",
       "      <td>27.234817</td>\n",
       "      <td>27.394613</td>\n",
       "      <td>52185780</td>\n",
       "      <td>0.0</td>\n",
       "      <td>1.0</td>\n",
       "    </tr>\n",
       "    <tr>\n",
       "      <td>1</td>\n",
       "      <td>AAPL</td>\n",
       "      <td>2015-11-30 00:00:00+00:00</td>\n",
       "      <td>118.30</td>\n",
       "      <td>119.41</td>\n",
       "      <td>117.75</td>\n",
       "      <td>117.99</td>\n",
       "      <td>39180322</td>\n",
       "      <td>27.396929</td>\n",
       "      <td>27.653993</td>\n",
       "      <td>27.269555</td>\n",
       "      <td>27.325137</td>\n",
       "      <td>156721288</td>\n",
       "      <td>0.0</td>\n",
       "      <td>1.0</td>\n",
       "    </tr>\n",
       "    <tr>\n",
       "      <td>2</td>\n",
       "      <td>AAPL</td>\n",
       "      <td>2015-12-01 00:00:00+00:00</td>\n",
       "      <td>117.34</td>\n",
       "      <td>118.81</td>\n",
       "      <td>116.86</td>\n",
       "      <td>118.75</td>\n",
       "      <td>34852374</td>\n",
       "      <td>27.174604</td>\n",
       "      <td>27.515039</td>\n",
       "      <td>27.063442</td>\n",
       "      <td>27.501144</td>\n",
       "      <td>139409496</td>\n",
       "      <td>0.0</td>\n",
       "      <td>1.0</td>\n",
       "    </tr>\n",
       "    <tr>\n",
       "      <td>3</td>\n",
       "      <td>AAPL</td>\n",
       "      <td>2015-12-02 00:00:00+00:00</td>\n",
       "      <td>116.28</td>\n",
       "      <td>118.11</td>\n",
       "      <td>116.08</td>\n",
       "      <td>117.05</td>\n",
       "      <td>33386563</td>\n",
       "      <td>26.929120</td>\n",
       "      <td>27.352927</td>\n",
       "      <td>26.882803</td>\n",
       "      <td>27.107443</td>\n",
       "      <td>133546252</td>\n",
       "      <td>0.0</td>\n",
       "      <td>1.0</td>\n",
       "    </tr>\n",
       "    <tr>\n",
       "      <td>4</td>\n",
       "      <td>AAPL</td>\n",
       "      <td>2015-12-03 00:00:00+00:00</td>\n",
       "      <td>115.20</td>\n",
       "      <td>116.79</td>\n",
       "      <td>114.22</td>\n",
       "      <td>116.55</td>\n",
       "      <td>41569509</td>\n",
       "      <td>26.679005</td>\n",
       "      <td>27.047230</td>\n",
       "      <td>26.452048</td>\n",
       "      <td>26.991649</td>\n",
       "      <td>166278036</td>\n",
       "      <td>0.0</td>\n",
       "      <td>1.0</td>\n",
       "    </tr>\n",
       "  </tbody>\n",
       "</table>\n",
       "</div>"
      ],
      "text/plain": [
       "  symbol                       date   close    high     low    open    volume  \\\n",
       "0   AAPL  2015-11-27 00:00:00+00:00  117.81  118.41  117.60  118.29  13046445   \n",
       "1   AAPL  2015-11-30 00:00:00+00:00  118.30  119.41  117.75  117.99  39180322   \n",
       "2   AAPL  2015-12-01 00:00:00+00:00  117.34  118.81  116.86  118.75  34852374   \n",
       "3   AAPL  2015-12-02 00:00:00+00:00  116.28  118.11  116.08  117.05  33386563   \n",
       "4   AAPL  2015-12-03 00:00:00+00:00  115.20  116.79  114.22  116.55  41569509   \n",
       "\n",
       "    adjClose    adjHigh     adjLow    adjOpen  adjVolume  divCash  splitFactor  \n",
       "0  27.283451  27.422404  27.234817  27.394613   52185780      0.0          1.0  \n",
       "1  27.396929  27.653993  27.269555  27.325137  156721288      0.0          1.0  \n",
       "2  27.174604  27.515039  27.063442  27.501144  139409496      0.0          1.0  \n",
       "3  26.929120  27.352927  26.882803  27.107443  133546252      0.0          1.0  \n",
       "4  26.679005  27.047230  26.452048  26.991649  166278036      0.0          1.0  "
      ]
     },
     "execution_count": 9,
     "metadata": {},
     "output_type": "execute_result"
    }
   ],
   "source": [
    "df.head()"
   ]
  },
  {
   "cell_type": "code",
   "execution_count": 10,
   "metadata": {},
   "outputs": [
    {
     "data": {
      "text/html": [
       "<div>\n",
       "<style scoped>\n",
       "    .dataframe tbody tr th:only-of-type {\n",
       "        vertical-align: middle;\n",
       "    }\n",
       "\n",
       "    .dataframe tbody tr th {\n",
       "        vertical-align: top;\n",
       "    }\n",
       "\n",
       "    .dataframe thead th {\n",
       "        text-align: right;\n",
       "    }\n",
       "</style>\n",
       "<table border=\"1\" class=\"dataframe\">\n",
       "  <thead>\n",
       "    <tr style=\"text-align: right;\">\n",
       "      <th></th>\n",
       "      <th>symbol</th>\n",
       "      <th>date</th>\n",
       "      <th>close</th>\n",
       "      <th>high</th>\n",
       "      <th>low</th>\n",
       "      <th>open</th>\n",
       "      <th>volume</th>\n",
       "      <th>adjClose</th>\n",
       "      <th>adjHigh</th>\n",
       "      <th>adjLow</th>\n",
       "      <th>adjOpen</th>\n",
       "      <th>adjVolume</th>\n",
       "      <th>divCash</th>\n",
       "      <th>splitFactor</th>\n",
       "    </tr>\n",
       "  </thead>\n",
       "  <tbody>\n",
       "    <tr>\n",
       "      <td>1253</td>\n",
       "      <td>AAPL</td>\n",
       "      <td>2020-11-18 00:00:00+00:00</td>\n",
       "      <td>118.03</td>\n",
       "      <td>119.8200</td>\n",
       "      <td>118.00</td>\n",
       "      <td>118.61</td>\n",
       "      <td>76322111</td>\n",
       "      <td>118.03</td>\n",
       "      <td>119.8200</td>\n",
       "      <td>118.00</td>\n",
       "      <td>118.61</td>\n",
       "      <td>76322111</td>\n",
       "      <td>0.0</td>\n",
       "      <td>1.0</td>\n",
       "    </tr>\n",
       "    <tr>\n",
       "      <td>1254</td>\n",
       "      <td>AAPL</td>\n",
       "      <td>2020-11-19 00:00:00+00:00</td>\n",
       "      <td>118.64</td>\n",
       "      <td>119.0600</td>\n",
       "      <td>116.81</td>\n",
       "      <td>117.59</td>\n",
       "      <td>74112972</td>\n",
       "      <td>118.64</td>\n",
       "      <td>119.0600</td>\n",
       "      <td>116.81</td>\n",
       "      <td>117.59</td>\n",
       "      <td>74112972</td>\n",
       "      <td>0.0</td>\n",
       "      <td>1.0</td>\n",
       "    </tr>\n",
       "    <tr>\n",
       "      <td>1255</td>\n",
       "      <td>AAPL</td>\n",
       "      <td>2020-11-20 00:00:00+00:00</td>\n",
       "      <td>117.34</td>\n",
       "      <td>118.7700</td>\n",
       "      <td>117.29</td>\n",
       "      <td>118.64</td>\n",
       "      <td>73604287</td>\n",
       "      <td>117.34</td>\n",
       "      <td>118.7700</td>\n",
       "      <td>117.29</td>\n",
       "      <td>118.64</td>\n",
       "      <td>73604287</td>\n",
       "      <td>0.0</td>\n",
       "      <td>1.0</td>\n",
       "    </tr>\n",
       "    <tr>\n",
       "      <td>1256</td>\n",
       "      <td>AAPL</td>\n",
       "      <td>2020-11-23 00:00:00+00:00</td>\n",
       "      <td>113.85</td>\n",
       "      <td>117.6202</td>\n",
       "      <td>113.75</td>\n",
       "      <td>117.18</td>\n",
       "      <td>127959318</td>\n",
       "      <td>113.85</td>\n",
       "      <td>117.6202</td>\n",
       "      <td>113.75</td>\n",
       "      <td>117.18</td>\n",
       "      <td>127959318</td>\n",
       "      <td>0.0</td>\n",
       "      <td>1.0</td>\n",
       "    </tr>\n",
       "    <tr>\n",
       "      <td>1257</td>\n",
       "      <td>AAPL</td>\n",
       "      <td>2020-11-24 00:00:00+00:00</td>\n",
       "      <td>115.17</td>\n",
       "      <td>115.8500</td>\n",
       "      <td>112.59</td>\n",
       "      <td>113.91</td>\n",
       "      <td>113226248</td>\n",
       "      <td>115.17</td>\n",
       "      <td>115.8500</td>\n",
       "      <td>112.59</td>\n",
       "      <td>113.91</td>\n",
       "      <td>113226248</td>\n",
       "      <td>0.0</td>\n",
       "      <td>1.0</td>\n",
       "    </tr>\n",
       "  </tbody>\n",
       "</table>\n",
       "</div>"
      ],
      "text/plain": [
       "     symbol                       date   close      high     low    open  \\\n",
       "1253   AAPL  2020-11-18 00:00:00+00:00  118.03  119.8200  118.00  118.61   \n",
       "1254   AAPL  2020-11-19 00:00:00+00:00  118.64  119.0600  116.81  117.59   \n",
       "1255   AAPL  2020-11-20 00:00:00+00:00  117.34  118.7700  117.29  118.64   \n",
       "1256   AAPL  2020-11-23 00:00:00+00:00  113.85  117.6202  113.75  117.18   \n",
       "1257   AAPL  2020-11-24 00:00:00+00:00  115.17  115.8500  112.59  113.91   \n",
       "\n",
       "         volume  adjClose   adjHigh  adjLow  adjOpen  adjVolume  divCash  \\\n",
       "1253   76322111    118.03  119.8200  118.00   118.61   76322111      0.0   \n",
       "1254   74112972    118.64  119.0600  116.81   117.59   74112972      0.0   \n",
       "1255   73604287    117.34  118.7700  117.29   118.64   73604287      0.0   \n",
       "1256  127959318    113.85  117.6202  113.75   117.18  127959318      0.0   \n",
       "1257  113226248    115.17  115.8500  112.59   113.91  113226248      0.0   \n",
       "\n",
       "      splitFactor  \n",
       "1253          1.0  \n",
       "1254          1.0  \n",
       "1255          1.0  \n",
       "1256          1.0  \n",
       "1257          1.0  "
      ]
     },
     "execution_count": 10,
     "metadata": {},
     "output_type": "execute_result"
    }
   ],
   "source": [
    "df.tail()"
   ]
  },
  {
   "cell_type": "code",
   "execution_count": 11,
   "metadata": {},
   "outputs": [
    {
     "data": {
      "text/plain": [
       "(1258, 14)"
      ]
     },
     "execution_count": 11,
     "metadata": {},
     "output_type": "execute_result"
    }
   ],
   "source": [
    "df.shape"
   ]
  },
  {
   "cell_type": "code",
   "execution_count": 12,
   "metadata": {},
   "outputs": [
    {
     "name": "stdout",
     "output_type": "stream",
     "text": [
      "<class 'pandas.core.frame.DataFrame'>\n",
      "RangeIndex: 1258 entries, 0 to 1257\n",
      "Data columns (total 14 columns):\n",
      "symbol         1258 non-null object\n",
      "date           1258 non-null object\n",
      "close          1258 non-null float64\n",
      "high           1258 non-null float64\n",
      "low            1258 non-null float64\n",
      "open           1258 non-null float64\n",
      "volume         1258 non-null int64\n",
      "adjClose       1258 non-null float64\n",
      "adjHigh        1258 non-null float64\n",
      "adjLow         1258 non-null float64\n",
      "adjOpen        1258 non-null float64\n",
      "adjVolume      1258 non-null int64\n",
      "divCash        1258 non-null float64\n",
      "splitFactor    1258 non-null float64\n",
      "dtypes: float64(10), int64(2), object(2)\n",
      "memory usage: 137.7+ KB\n"
     ]
    }
   ],
   "source": [
    "df.shape\n",
    "df.info()"
   ]
  },
  {
   "cell_type": "code",
   "execution_count": 13,
   "metadata": {},
   "outputs": [],
   "source": [
    "#Reseting the Index an creating a new column with CLOSE variable\n",
    "df1 = df.reset_index()['close'] "
   ]
  },
  {
   "cell_type": "code",
   "execution_count": 14,
   "metadata": {},
   "outputs": [
    {
     "data": {
      "text/plain": [
       "(1258,)"
      ]
     },
     "execution_count": 14,
     "metadata": {},
     "output_type": "execute_result"
    }
   ],
   "source": [
    "df1.shape"
   ]
  },
  {
   "cell_type": "code",
   "execution_count": 15,
   "metadata": {},
   "outputs": [
    {
     "data": {
      "text/plain": [
       "0    117.81\n",
       "1    118.30\n",
       "2    117.34\n",
       "3    116.28\n",
       "4    115.20\n",
       "Name: close, dtype: float64"
      ]
     },
     "execution_count": 15,
     "metadata": {},
     "output_type": "execute_result"
    }
   ],
   "source": [
    "df1.head()"
   ]
  },
  {
   "cell_type": "markdown",
   "metadata": {},
   "source": [
    "### Ploting the close Data"
   ]
  },
  {
   "cell_type": "code",
   "execution_count": 16,
   "metadata": {},
   "outputs": [
    {
     "data": {
      "image/png": "[encoded data removed]",
      "text/plain": [
       "<Figure size 1080x576 with 1 Axes>"
      ]
     },
     "metadata": {
      "needs_background": "light"
     },
     "output_type": "display_data"
    }
   ],
   "source": [
    "import matplotlib.pyplot as plt\n",
    "plt.figure(figsize=(15,8))\n",
    "plt.plot(df1)\n",
    "plt.show()"
   ]
  },
  {
   "cell_type": "markdown",
   "metadata": {},
   "source": [
    "## Scaling the Data"
   ]
  },
  {
   "cell_type": "code",
   "execution_count": 17,
   "metadata": {},
   "outputs": [],
   "source": [
    "##LSTM are sensitive to the scale of the data, so we apply MinMax scaling"
   ]
  },
  {
   "cell_type": "code",
   "execution_count": 18,
   "metadata": {},
   "outputs": [],
   "source": [
    "from sklearn.preprocessing import MinMaxScaler\n",
    "scaler =  MinMaxScaler(feature_range=(0,1))\n",
    "df1 = scaler.fit_transform(np.array(df1).reshape(-1,1))"
   ]
  },
  {
   "cell_type": "code",
   "execution_count": 19,
   "metadata": {},
   "outputs": [
    {
     "data": {
      "text/plain": [
       "(1258, 1)"
      ]
     },
     "execution_count": 19,
     "metadata": {},
     "output_type": "execute_result"
    }
   ],
   "source": [
    "df1.shape"
   ]
  },
  {
   "cell_type": "code",
   "execution_count": 20,
   "metadata": {},
   "outputs": [
    {
     "data": {
      "text/plain": [
       "array([[0.06607336],\n",
       "       [0.06725195],\n",
       "       [0.06494287],\n",
       "       ...,\n",
       "       [0.06494287],\n",
       "       [0.05654841],\n",
       "       [0.05972339]])"
      ]
     },
     "execution_count": 20,
     "metadata": {},
     "output_type": "execute_result"
    }
   ],
   "source": [
    "df1"
   ]
  },
  {
   "cell_type": "markdown",
   "metadata": {},
   "source": [
    "# Training and Testing the data"
   ]
  },
  {
   "cell_type": "raw",
   "metadata": {},
   "source": [
    "Time series data cannot split usinf cv or random seed technique.\n",
    "Also time series data is dependent on previous day data."
   ]
  },
  {
   "cell_type": "code",
   "execution_count": 21,
   "metadata": {},
   "outputs": [],
   "source": [
    "training_size = int(len(df1)*0.65) #65% data are used for training data\n",
    "test_size=len(df1)-training_size\n",
    "train_data,test_data=df1[0:training_size,:],df1[training_size:len(df1),:]"
   ]
  },
  {
   "cell_type": "code",
   "execution_count": 22,
   "metadata": {},
   "outputs": [
    {
     "data": {
      "text/plain": [
       "(817, 441)"
      ]
     },
     "execution_count": 22,
     "metadata": {},
     "output_type": "execute_result"
    }
   ],
   "source": [
    "training_size,test_size # Shape of train and test data"
   ]
  },
  {
   "cell_type": "code",
   "execution_count": 23,
   "metadata": {},
   "outputs": [],
   "source": [
    "# Creating Function to train the model\n",
    "def create_dataset(dataset, time_step = 1):\n",
    "    dataX,dataY= [], [] \n",
    "    for i in range(len(dataset)-time_step-1): \n",
    "        a= dataset[i:(i+time_step),0]# i =0,1,2,3,4...100\n",
    "        dataX.append(a)\n",
    "        dataY.append(dataset[i + time_step, 0])\n",
    "    return np.array(dataX),np.array(dataY)"
   ]
  },
  {
   "cell_type": "code",
   "execution_count": 24,
   "metadata": {},
   "outputs": [],
   "source": [
    "time_step = 100\n",
    "X_train,y_train =create_dataset(train_data,time_step)\n",
    "X_test,y_test = create_dataset(test_data,time_step)"
   ]
  },
  {
   "cell_type": "code",
   "execution_count": 25,
   "metadata": {},
   "outputs": [
    {
     "name": "stdout",
     "output_type": "stream",
     "text": [
      "(716, 100)\n"
     ]
    }
   ],
   "source": [
    "print(X_train.shape)"
   ]
  },
  {
   "cell_type": "code",
   "execution_count": 26,
   "metadata": {},
   "outputs": [],
   "source": [
    "# reshape input to be 3D which is Req is LSTM\n",
    "X_train = X_train.reshape(X_train.shape[0],X_train.shape[1],1)\n",
    "X_test = X_test.reshape(X_test.shape[0],X_test.shape[1],1)"
   ]
  },
  {
   "cell_type": "code",
   "execution_count": 27,
   "metadata": {},
   "outputs": [
    {
     "data": {
      "text/plain": [
       "((716, 100, 1), (340, 100, 1))"
      ]
     },
     "execution_count": 27,
     "metadata": {},
     "output_type": "execute_result"
    }
   ],
   "source": [
    "X_train.shape,X_test.shape"
   ]
  },
  {
   "cell_type": "markdown",
   "metadata": {},
   "source": [
    "## Model Preparation"
   ]
  },
  {
   "cell_type": "code",
   "execution_count": 28,
   "metadata": {},
   "outputs": [],
   "source": [
    "# Libraries rq for LSTM model\n",
    "\n",
    "from tensorflow.keras.models import Sequential\n",
    "from tensorflow.keras.layers import Dense\n",
    "from tensorflow.keras.layers import LSTM\n"
   ]
  },
  {
   "cell_type": "code",
   "execution_count": 29,
   "metadata": {},
   "outputs": [],
   "source": [
    "model = Sequential()\n",
    "model.add(LSTM(50,return_sequences=True,input_shape=(100,1)))\n",
    "model.add(LSTM(50,return_sequences=True))\n",
    "model.add(LSTM(50))\n",
    "model.add(Dense(1))\n",
    "model.compile(loss = 'mean_squared_error',optimizer='adam')"
   ]
  },
  {
   "cell_type": "code",
   "execution_count": 30,
   "metadata": {},
   "outputs": [
    {
     "name": "stdout",
     "output_type": "stream",
     "text": [
      "Model: \"sequential\"\n",
      "_________________________________________________________________\n",
      "Layer (type)                 Output Shape              Param #   \n",
      "=================================================================\n",
      "lstm (LSTM)                  (None, 100, 50)           10400     \n",
      "_________________________________________________________________\n",
      "lstm_1 (LSTM)                (None, 100, 50)           20200     \n",
      "_________________________________________________________________\n",
      "lstm_2 (LSTM)                (None, 50)                20200     \n",
      "_________________________________________________________________\n",
      "dense (Dense)                (None, 1)                 51        \n",
      "=================================================================\n",
      "Total params: 50,851\n",
      "Trainable params: 50,851\n",
      "Non-trainable params: 0\n",
      "_________________________________________________________________\n"
     ]
    }
   ],
   "source": [
    "model.summary()"
   ]
  },
  {
   "cell_type": "code",
   "execution_count": 31,
   "metadata": {
    "scrolled": true
   },
   "outputs": [
    {
     "name": "stdout",
     "output_type": "stream",
     "text": [
      "Epoch 1/100\n",
      "12/12 [==============================] - 3s 216ms/step - loss: 0.0090 - val_loss: 0.0592\n",
      "Epoch 2/100\n",
      "12/12 [==============================] - 1s 44ms/step - loss: 0.0024 - val_loss: 0.0214\n",
      "Epoch 3/100\n",
      "12/12 [==============================] - 0s 34ms/step - loss: 8.0531e-04 - val_loss: 0.0237\n",
      "Epoch 4/100\n",
      "12/12 [==============================] - 0s 32ms/step - loss: 5.9207e-04 - val_loss: 0.0208\n",
      "Epoch 5/100\n",
      "12/12 [==============================] - 0s 32ms/step - loss: 4.2584e-04 - val_loss: 0.0194\n",
      "Epoch 6/100\n",
      "12/12 [==============================] - 0s 33ms/step - loss: 3.5064e-04 - val_loss: 0.0189\n",
      "Epoch 7/100\n",
      "12/12 [==============================] - 0s 32ms/step - loss: 3.3576e-04 - val_loss: 0.0185\n",
      "Epoch 8/100\n",
      "12/12 [==============================] - 0s 32ms/step - loss: 3.2950e-04 - val_loss: 0.0180\n",
      "Epoch 9/100\n",
      "12/12 [==============================] - 0s 31ms/step - loss: 3.1149e-04 - val_loss: 0.0175\n",
      "Epoch 10/100\n",
      "12/12 [==============================] - 0s 32ms/step - loss: 2.9943e-04 - val_loss: 0.0171\n",
      "Epoch 11/100\n",
      "12/12 [==============================] - 0s 32ms/step - loss: 3.0487e-04 - val_loss: 0.0169\n",
      "Epoch 12/100\n",
      "12/12 [==============================] - 0s 32ms/step - loss: 2.8545e-04 - val_loss: 0.0164\n",
      "Epoch 13/100\n",
      "12/12 [==============================] - 0s 32ms/step - loss: 2.6722e-04 - val_loss: 0.0158\n",
      "Epoch 14/100\n",
      "12/12 [==============================] - 0s 34ms/step - loss: 2.5934e-04 - val_loss: 0.0157\n",
      "Epoch 15/100\n",
      "12/12 [==============================] - 0s 38ms/step - loss: 2.4338e-04 - val_loss: 0.0154\n",
      "Epoch 16/100\n",
      "12/12 [==============================] - 0s 33ms/step - loss: 2.5448e-04 - val_loss: 0.0158\n",
      "Epoch 17/100\n",
      "12/12 [==============================] - 0s 33ms/step - loss: 2.3916e-04 - val_loss: 0.0151\n",
      "Epoch 18/100\n",
      "12/12 [==============================] - 0s 33ms/step - loss: 2.2827e-04 - val_loss: 0.0151\n",
      "Epoch 19/100\n",
      "12/12 [==============================] - 0s 33ms/step - loss: 2.1623e-04 - val_loss: 0.0155\n",
      "Epoch 20/100\n",
      "12/12 [==============================] - 0s 33ms/step - loss: 2.1026e-04 - val_loss: 0.0150\n",
      "Epoch 21/100\n",
      "12/12 [==============================] - 0s 33ms/step - loss: 2.0373e-04 - val_loss: 0.0151\n",
      "Epoch 22/100\n",
      "12/12 [==============================] - 0s 33ms/step - loss: 1.9570e-04 - val_loss: 0.0152\n",
      "Epoch 23/100\n",
      "12/12 [==============================] - 1s 42ms/step - loss: 1.9594e-04 - val_loss: 0.0150\n",
      "Epoch 24/100\n",
      "12/12 [==============================] - 0s 32ms/step - loss: 1.9477e-04 - val_loss: 0.0149\n",
      "Epoch 25/100\n",
      "12/12 [==============================] - 0s 34ms/step - loss: 1.9325e-04 - val_loss: 0.0149\n",
      "Epoch 26/100\n",
      "12/12 [==============================] - 0s 33ms/step - loss: 1.9171e-04 - val_loss: 0.0149\n",
      "Epoch 27/100\n",
      "12/12 [==============================] - 0s 37ms/step - loss: 2.0202e-04 - val_loss: 0.0148\n",
      "Epoch 28/100\n",
      "12/12 [==============================] - 0s 34ms/step - loss: 1.8476e-04 - val_loss: 0.0149\n",
      "Epoch 29/100\n",
      "12/12 [==============================] - 0s 33ms/step - loss: 1.8585e-04 - val_loss: 0.0148\n",
      "Epoch 30/100\n",
      "12/12 [==============================] - 0s 33ms/step - loss: 1.7911e-04 - val_loss: 0.0149\n",
      "Epoch 31/100\n",
      "12/12 [==============================] - 0s 33ms/step - loss: 1.7824e-04 - val_loss: 0.0148\n",
      "Epoch 32/100\n",
      "12/12 [==============================] - 0s 34ms/step - loss: 1.9490e-04 - val_loss: 0.0151\n",
      "Epoch 33/100\n",
      "12/12 [==============================] - 0s 33ms/step - loss: 2.0081e-04 - val_loss: 0.0144\n",
      "Epoch 34/100\n",
      "12/12 [==============================] - 0s 36ms/step - loss: 1.9799e-04 - val_loss: 0.0144\n",
      "Epoch 35/100\n",
      "12/12 [==============================] - 0s 34ms/step - loss: 1.8196e-04 - val_loss: 0.0146\n",
      "Epoch 36/100\n",
      "12/12 [==============================] - 0s 37ms/step - loss: 1.8352e-04 - val_loss: 0.0148\n",
      "Epoch 37/100\n",
      "12/12 [==============================] - 0s 39ms/step - loss: 1.8651e-04 - val_loss: 0.0151\n",
      "Epoch 38/100\n",
      "12/12 [==============================] - 0s 34ms/step - loss: 1.6678e-04 - val_loss: 0.0146\n",
      "Epoch 39/100\n",
      "12/12 [==============================] - 0s 39ms/step - loss: 1.8030e-04 - val_loss: 0.0150\n",
      "Epoch 40/100\n",
      "12/12 [==============================] - 0s 39ms/step - loss: 1.6525e-04 - val_loss: 0.0151\n",
      "Epoch 41/100\n",
      "12/12 [==============================] - 0s 34ms/step - loss: 1.6815e-04 - val_loss: 0.0154\n",
      "Epoch 42/100\n",
      "12/12 [==============================] - 0s 34ms/step - loss: 1.8238e-04 - val_loss: 0.0145\n",
      "Epoch 43/100\n",
      "12/12 [==============================] - 1s 44ms/step - loss: 1.5796e-04 - val_loss: 0.0143\n",
      "Epoch 44/100\n",
      "12/12 [==============================] - 0s 33ms/step - loss: 1.6108e-04 - val_loss: 0.0145\n",
      "Epoch 45/100\n",
      "12/12 [==============================] - 0s 33ms/step - loss: 1.7305e-04 - val_loss: 0.0151\n",
      "Epoch 46/100\n",
      "12/12 [==============================] - 0s 33ms/step - loss: 1.5558e-04 - val_loss: 0.0135\n",
      "Epoch 47/100\n",
      "12/12 [==============================] - 0s 33ms/step - loss: 1.5181e-04 - val_loss: 0.0142\n",
      "Epoch 48/100\n",
      "12/12 [==============================] - 0s 40ms/step - loss: 1.5555e-04 - val_loss: 0.0136\n",
      "Epoch 49/100\n",
      "12/12 [==============================] - 0s 34ms/step - loss: 1.5360e-04 - val_loss: 0.0131\n",
      "Epoch 50/100\n",
      "12/12 [==============================] - 1s 45ms/step - loss: 1.6155e-04 - val_loss: 0.0134\n",
      "Epoch 51/100\n",
      "12/12 [==============================] - 0s 38ms/step - loss: 1.8894e-04 - val_loss: 0.0132\n",
      "Epoch 52/100\n",
      "12/12 [==============================] - 0s 38ms/step - loss: 1.5789e-04 - val_loss: 0.0127\n",
      "Epoch 53/100\n",
      "12/12 [==============================] - 1s 46ms/step - loss: 1.4313e-04 - val_loss: 0.0126\n",
      "Epoch 54/100\n",
      "12/12 [==============================] - 0s 37ms/step - loss: 1.4325e-04 - val_loss: 0.0123\n",
      "Epoch 55/100\n",
      "12/12 [==============================] - 0s 38ms/step - loss: 1.4238e-04 - val_loss: 0.0122\n",
      "Epoch 56/100\n",
      "12/12 [==============================] - 0s 33ms/step - loss: 1.5209e-04 - val_loss: 0.0123\n",
      "Epoch 57/100\n",
      "12/12 [==============================] - 1s 44ms/step - loss: 1.3965e-04 - val_loss: 0.0117\n",
      "Epoch 58/100\n",
      "12/12 [==============================] - ETA: 0s - loss: 1.3899e-0 - 0s 33ms/step - loss: 1.4026e-04 - val_loss: 0.0120\n",
      "Epoch 59/100\n",
      "12/12 [==============================] - 1s 53ms/step - loss: 1.3755e-04 - val_loss: 0.0113\n",
      "Epoch 60/100\n",
      "12/12 [==============================] - 1s 43ms/step - loss: 1.4474e-04 - val_loss: 0.0114\n",
      "Epoch 61/100\n",
      "12/12 [==============================] - 0s 36ms/step - loss: 1.4220e-04 - val_loss: 0.0107\n",
      "Epoch 62/100\n",
      "12/12 [==============================] - 1s 52ms/step - loss: 1.3892e-04 - val_loss: 0.0107\n",
      "Epoch 63/100\n",
      "12/12 [==============================] - 0s 35ms/step - loss: 1.2950e-04 - val_loss: 0.0108\n",
      "Epoch 64/100\n",
      "12/12 [==============================] - 0s 34ms/step - loss: 1.4783e-04 - val_loss: 0.0100\n",
      "Epoch 65/100\n",
      "12/12 [==============================] - 0s 35ms/step - loss: 1.2815e-04 - val_loss: 0.0101\n",
      "Epoch 66/100\n",
      "12/12 [==============================] - 0s 35ms/step - loss: 1.2687e-04 - val_loss: 0.0098\n",
      "Epoch 67/100\n",
      "12/12 [==============================] - 0s 35ms/step - loss: 1.1988e-04 - val_loss: 0.0097\n",
      "Epoch 68/100\n",
      "12/12 [==============================] - 0s 36ms/step - loss: 1.2654e-04 - val_loss: 0.0095\n",
      "Epoch 69/100\n",
      "12/12 [==============================] - 0s 35ms/step - loss: 1.2563e-04 - val_loss: 0.0091\n",
      "Epoch 70/100\n",
      "12/12 [==============================] - 0s 35ms/step - loss: 1.2762e-04 - val_loss: 0.0099\n",
      "Epoch 71/100\n",
      "12/12 [==============================] - 0s 36ms/step - loss: 1.2533e-04 - val_loss: 0.0092\n",
      "Epoch 72/100\n",
      "12/12 [==============================] - 0s 36ms/step - loss: 1.1524e-04 - val_loss: 0.0088e-\n",
      "Epoch 73/100\n",
      "12/12 [==============================] - 0s 35ms/step - loss: 1.1578e-04 - val_loss: 0.0088\n",
      "Epoch 74/100\n",
      "12/12 [==============================] - 0s 39ms/step - loss: 1.4256e-04 - val_loss: 0.0091\n",
      "Epoch 75/100\n",
      "12/12 [==============================] - 1s 56ms/step - loss: 1.3051e-04 - val_loss: 0.0083\n",
      "Epoch 76/100\n",
      "12/12 [==============================] - 0s 34ms/step - loss: 1.2815e-04 - val_loss: 0.0083\n",
      "Epoch 77/100\n",
      "12/12 [==============================] - 1s 62ms/step - loss: 1.0801e-04 - val_loss: 0.0083\n",
      "Epoch 78/100\n",
      "12/12 [==============================] - 0s 35ms/step - loss: 1.1624e-04 - val_loss: 0.0080\n"
     ]
    },
    {
     "name": "stdout",
     "output_type": "stream",
     "text": [
      "Epoch 79/100\n",
      "12/12 [==============================] - 0s 35ms/step - loss: 1.1193e-04 - val_loss: 0.0081\n",
      "Epoch 80/100\n",
      "12/12 [==============================] - 0s 35ms/step - loss: 1.3018e-04 - val_loss: 0.0073\n",
      "Epoch 81/100\n",
      "12/12 [==============================] - 0s 38ms/step - loss: 1.2174e-04 - val_loss: 0.0077\n",
      "Epoch 82/100\n",
      "12/12 [==============================] - 0s 36ms/step - loss: 1.2792e-04 - val_loss: 0.0076\n",
      "Epoch 83/100\n",
      "12/12 [==============================] - 0s 37ms/step - loss: 1.1039e-04 - val_loss: 0.0075\n",
      "Epoch 84/100\n",
      "12/12 [==============================] - 0s 36ms/step - loss: 1.0519e-04 - val_loss: 0.0074\n",
      "Epoch 85/100\n",
      "12/12 [==============================] - 0s 42ms/step - loss: 9.8935e-05 - val_loss: 0.0074\n",
      "Epoch 86/100\n",
      "12/12 [==============================] - 0s 36ms/step - loss: 9.4546e-05 - val_loss: 0.0073\n",
      "Epoch 87/100\n",
      "12/12 [==============================] - 0s 36ms/step - loss: 9.9272e-05 - val_loss: 0.0071\n",
      "Epoch 88/100\n",
      "12/12 [==============================] - 1s 94ms/step - loss: 9.8391e-05 - val_loss: 0.0069\n",
      "Epoch 89/100\n",
      "12/12 [==============================] - 0s 35ms/step - loss: 1.0120e-04 - val_loss: 0.0068\n",
      "Epoch 90/100\n",
      "12/12 [==============================] - 1s 60ms/step - loss: 1.1113e-04 - val_loss: 0.0070\n",
      "Epoch 91/100\n",
      "12/12 [==============================] - 1s 58ms/step - loss: 9.3550e-05 - val_loss: 0.0066\n",
      "Epoch 92/100\n",
      "12/12 [==============================] - 1s 60ms/step - loss: 9.0373e-05 - val_loss: 0.0065\n",
      "Epoch 93/100\n",
      "12/12 [==============================] - 1s 54ms/step - loss: 8.7205e-05 - val_loss: 0.0065\n",
      "Epoch 94/100\n",
      "12/12 [==============================] - 0s 38ms/step - loss: 8.8512e-05 - val_loss: 0.0063\n",
      "Epoch 95/100\n",
      "12/12 [==============================] - 1s 56ms/step - loss: 8.9711e-05 - val_loss: 0.0062\n",
      "Epoch 96/100\n",
      "12/12 [==============================] - 1s 50ms/step - loss: 9.0192e-05 - val_loss: 0.0062\n",
      "Epoch 97/100\n",
      "12/12 [==============================] - 0s 38ms/step - loss: 8.5947e-05 - val_loss: 0.0060\n",
      "Epoch 98/100\n",
      "12/12 [==============================] - 0s 37ms/step - loss: 8.5012e-05 - val_loss: 0.0060\n",
      "Epoch 99/100\n",
      "12/12 [==============================] - 0s 38ms/step - loss: 8.5424e-05 - val_loss: 0.0061\n",
      "Epoch 100/100\n",
      "12/12 [==============================] - 0s 39ms/step - loss: 8.2347e-05 - val_loss: 0.0058\n"
     ]
    },
    {
     "data": {
      "text/plain": [
       "<tensorflow.python.keras.callbacks.History at 0x10ec4e6c648>"
      ]
     },
     "execution_count": 31,
     "metadata": {},
     "output_type": "execute_result"
    }
   ],
   "source": [
    "model.fit(X_train,y_train,validation_data=(X_test,y_test),epochs = 100,batch_size=64,verbose=1)"
   ]
  },
  {
   "cell_type": "code",
   "execution_count": 32,
   "metadata": {},
   "outputs": [],
   "source": [
    "import tensorflow as tf"
   ]
  },
  {
   "cell_type": "code",
   "execution_count": 33,
   "metadata": {},
   "outputs": [],
   "source": [
    "#Lets do the prediction and check performance metrics\n",
    "train_predict = model.predict(X_train)\n",
    "test_predict = model.predict(X_test)"
   ]
  },
  {
   "cell_type": "markdown",
   "metadata": {},
   "source": [
    "### Test Vs Prediction Plotting"
   ]
  },
  {
   "cell_type": "code",
   "execution_count": 54,
   "metadata": {
    "scrolled": true
   },
   "outputs": [
    {
     "data": {
      "image/png": "[encoded data removed]",
      "text/plain": [
       "<Figure size 1080x360 with 1 Axes>"
      ]
     },
     "metadata": {
      "needs_background": "light"
     },
     "output_type": "display_data"
    }
   ],
   "source": [
    "plt.figure(figsize=(15,5))\n",
    "plt.plot(test_predict,label=\"Prediction\")\n",
    "plt.plot(scaler.inverse_transform([y_test]).reshape(-1,1),label=\"Actual\")\n",
    "plt.xlabel(\"Days\")\n",
    "plt.ylabel(\"Price\")\n",
    "plt.legend()\n",
    "plt.show()"
   ]
  },
  {
   "cell_type": "code",
   "execution_count": 36,
   "metadata": {},
   "outputs": [],
   "source": [
    "#transformback to original form\n",
    "train_predict = scaler.inverse_transform(train_predict)\n",
    "test_predict = scaler.inverse_transform(test_predict)"
   ]
  },
  {
   "cell_type": "code",
   "execution_count": 37,
   "metadata": {},
   "outputs": [
    {
     "data": {
      "text/plain": [
       "158.6708944782977"
      ]
     },
     "execution_count": 37,
     "metadata": {},
     "output_type": "execute_result"
    }
   ],
   "source": [
    "## calculate RMSE performance metrics for training data\n",
    "from sklearn.metrics import mean_squared_error\n",
    "np.sqrt(mean_squared_error(y_train,train_predict))"
   ]
  },
  {
   "cell_type": "code",
   "execution_count": 38,
   "metadata": {},
   "outputs": [
    {
     "data": {
      "text/plain": [
       "279.16621991469515"
      ]
     },
     "execution_count": 38,
     "metadata": {},
     "output_type": "execute_result"
    }
   ],
   "source": [
    "## calculate RMSE performance metrics for testing data\n",
    "np.sqrt(mean_squared_error(y_test,test_predict))"
   ]
  },
  {
   "cell_type": "code",
   "execution_count": 39,
   "metadata": {},
   "outputs": [
    {
     "data": {
      "image/png": "[encoded data removed]",
      "text/plain": [
       "<Figure size 1080x360 with 1 Axes>"
      ]
     },
     "metadata": {
      "needs_background": "light"
     },
     "output_type": "display_data"
    }
   ],
   "source": [
    "#Shift train predictions for plotting\n",
    "plt.figure(figsize=(15,5))\n",
    "look_back = 100\n",
    "trainpredictplot = np.empty_like(df1)\n",
    "trainpredictplot[:,:] = np.nan\n",
    "trainpredictplot[look_back:len(train_predict)+look_back,:] = train_predict\n",
    "\n",
    "#shift test predictions for plotting\n",
    "testpredicplot = np.empty_like(df1)\n",
    "testpredicplot[:,:] = np.nan\n",
    "testpredicplot[len(train_predict)+(look_back*2)+1:len(df1)-1,:]=test_predict\n",
    "\n",
    "# plot baseline and predictions\n",
    "plt.plot(scaler.inverse_transform(df1))\n",
    "plt.plot(trainpredictplot)\n",
    "plt.plot(testpredicplot)\n",
    "plt.show()"
   ]
  },
  {
   "cell_type": "code",
   "execution_count": 40,
   "metadata": {},
   "outputs": [
    {
     "data": {
      "text/plain": [
       "[<matplotlib.lines.Line2D at 0x10f475c5948>]"
      ]
     },
     "execution_count": 40,
     "metadata": {},
     "output_type": "execute_result"
    },
    {
     "data": {
      "image/png": "[encoded data removed]",
      "text/plain": [
       "<Figure size 1080x360 with 1 Axes>"
      ]
     },
     "metadata": {
      "needs_background": "light"
     },
     "output_type": "display_data"
    }
   ],
   "source": [
    "plt.figure(figsize=(15,5))\n",
    "plt.plot(scaler.inverse_transform(df1))"
   ]
  },
  {
   "cell_type": "code",
   "execution_count": 41,
   "metadata": {},
   "outputs": [
    {
     "data": {
      "text/plain": [
       "[<matplotlib.lines.Line2D at 0x10f47629608>]"
      ]
     },
     "execution_count": 41,
     "metadata": {},
     "output_type": "execute_result"
    },
    {
     "data": {
      "image/png": "[encoded data removed]",
      "text/plain": [
       "<Figure size 1080x360 with 1 Axes>"
      ]
     },
     "metadata": {
      "needs_background": "light"
     },
     "output_type": "display_data"
    }
   ],
   "source": [
    "plt.figure(figsize=(15,5))\n",
    "plt.plot(trainpredictplot)"
   ]
  },
  {
   "cell_type": "code",
   "execution_count": 42,
   "metadata": {},
   "outputs": [
    {
     "data": {
      "text/plain": [
       "[<matplotlib.lines.Line2D at 0x10f4768dfc8>]"
      ]
     },
     "execution_count": 42,
     "metadata": {},
     "output_type": "execute_result"
    },
    {
     "data": {
      "image/png": "[encoded data removed]",
      "text/plain": [
       "<Figure size 1080x360 with 1 Axes>"
      ]
     },
     "metadata": {
      "needs_background": "light"
     },
     "output_type": "display_data"
    }
   ],
   "source": [
    "plt.figure(figsize=(15,5))\n",
    "plt.plot(testpredicplot)"
   ]
  },
  {
   "cell_type": "markdown",
   "metadata": {},
   "source": [
    "## Predicting for next 30 Days"
   ]
  },
  {
   "cell_type": "code",
   "execution_count": 43,
   "metadata": {},
   "outputs": [
    {
     "name": "stdout",
     "output_type": "stream",
     "text": [
      "WARNING:tensorflow:Model was constructed with shape (None, 100, 1) for input Tensor(\"lstm_input:0\", shape=(None, 100, 1), dtype=float32), but it was called on an input with incompatible shape (None, 101, 1).\n",
      "Predictions for next 30 days:  \n",
      " [0.06704778969287872, 0.0655154287815094, 0.06512867659330368, 0.06557576358318329, 0.06652028113603592, 0.06772208213806152, 0.06904017180204391, 0.07040030509233475, 0.07176358997821808, 0.07310692220926285, 0.07441356033086777, 0.07567016035318375, 0.07686661928892136, 0.07799626141786575, 0.07905643433332443, 0.08004789799451828, 0.08097467571496964, 0.08184326440095901, 0.08266175538301468, 0.08343931287527084, 0.08418533205986023, 0.08490928262472153, 0.0856199562549591, 0.08632524311542511, 0.08703189343214035, 0.08774559199810028, 0.08847064524888992, 0.08921022713184357, 0.08996620774269104, 0.09073959290981293]\n"
     ]
    }
   ],
   "source": [
    "\n",
    "#test_data for previous 100 days, we will use this data for predicting next 30 days\n",
    "\n",
    "temp_input = test_data[340:].reshape(1,-1) # taking last 100 values from test_data\n",
    "temp_input= temp_input[0].tolist() ## taking 1D value from temp_input array and converting into list\n",
    "\n",
    "\n",
    "predictions=[]                                \n",
    "for i in range(1,31):                                                      \n",
    "    if i == 1:                                                            #here we are taking i=1 because we would be predicting based on predefined 100 data points and from else part we would be predicting based on LIFO data points\n",
    "        temp_input_arr= np.array(temp_input)                              #converting the list of 100 previous data into an array\n",
    "        temp_input_arr= temp_input_arr.reshape(1, len(temp_input),1)      #reshaping array to 3d as per the requirement of tensorflow model\n",
    "        y_hat1= model.predict(temp_input_arr)                             #predicting the value when i=1 using tensorflow model\n",
    "        temp_input.extend(y_hat1[0].tolist())                             #extending and converting to list the y_hat predicted value to temp_input list\n",
    "        predictions.extend(y_hat1[0].tolist())                            #storing the y_hat value to a 30 days prediction list\n",
    "        #print(\"day {} input {}\". format(i,temp_input))\n",
    "        #print('prediction for day', i, y_hat1)\n",
    "        #print('======================================================')\n",
    "       \n",
    "    else:\n",
    "        temp_input= temp_input[1:]                                       #transforming the temp_input list such that is has last 100 data points for the prediction of next day, means we are indexing is such a way that it removes the first element and adding the new prediction value\n",
    "        temp_input_arr= np.array(temp_input)                             # again converting the list of 100 data into an array\n",
    "        temp_input_arr= temp_input_arr.reshape(1, len(temp_input),1)     #reshaping array to 3d as per the requirement of tensorflow model\n",
    "        y_hat1= model.predict(temp_input_arr)                            #predicting the value using tensorflow model\n",
    "        temp_input.extend(y_hat1[0].tolist())                            #extending and converting to list the y_hat predicted value to temp_input list\n",
    "        predictions.extend(y_hat1[0].tolist())                           #storing the y_hat value to a 30 days prediction list\n",
    "        #print(\"day {} input {}\". format(i,temp_input))\n",
    "        #print('prediction for day', i, y_hat1)\n",
    "        #print('======================================================')\n",
    "\n",
    "\n",
    "print('Predictions for next 30 days: ', '\\n', predictions)\n"
   ]
  },
  {
   "cell_type": "code",
   "execution_count": 44,
   "metadata": {},
   "outputs": [
    {
     "data": {
      "text/plain": [
       "(1, 101)"
      ]
     },
     "execution_count": 44,
     "metadata": {},
     "output_type": "execute_result"
    }
   ],
   "source": [
    "x_input=test_data[340:].reshape(1,-1)\n",
    "x_input.shape"
   ]
  },
  {
   "cell_type": "code",
   "execution_count": 45,
   "metadata": {},
   "outputs": [],
   "source": [
    "temp_input=list(x_input)\n",
    "temp_input=temp_input[0].tolist()"
   ]
  },
  {
   "cell_type": "code",
   "execution_count": 46,
   "metadata": {},
   "outputs": [
    {
     "name": "stdout",
     "output_type": "stream",
     "text": [
      "0 day input [0.6791341  0.70001203 0.7039567  0.70556825 0.70131088 0.71651233\n",
      " 0.72293446 0.711365   0.70948888 0.72901984 0.71595911 0.71858088\n",
      " 0.67598316 0.67377029 0.69488876 0.67990379 0.69710162 0.70816597\n",
      " 0.80505111 0.83081179 0.83781118 0.8416356  0.87858088 0.85173782\n",
      " 0.86727601 0.83502105 0.86999399 0.88923632 0.88825015 0.8853638\n",
      " 0.89455201 0.89594708 0.92064943 0.97929044 0.99360192 0.98366807\n",
      " 1.         0.98544799 0.9834997  0.09308479 0.10544799 0.09876127\n",
      " 0.07345761 0.07365003 0.05407096 0.06489477 0.0556825  0.05209862\n",
      " 0.06016837 0.06061335 0.0524113  0.04810583 0.03968731 0.04748046\n",
      " 0.05164161 0.04036079 0.04300661 0.0527721  0.05921828 0.05712568\n",
      " 0.06126278 0.06361996 0.05455201 0.06292243 0.05488876 0.05950692\n",
      " 0.05924233 0.06405292 0.08192423 0.07398677 0.07420325 0.07304871\n",
      " 0.06898376 0.06167168 0.06535177 0.06381239 0.06111846 0.0594107\n",
      " 0.05943476 0.06316296 0.05017438 0.06008419 0.044546   0.04432952\n",
      " 0.04834636 0.05919423 0.06900782 0.06819002 0.06248948 0.06164762\n",
      " 0.07011425 0.06944077 0.06956103 0.07206254 0.06987372 0.06660253\n",
      " 0.06806975 0.06494287 0.05654841 0.05972339]\n",
      "0 day output [[0.06704894]]\n",
      "1 day input [0.70001203 0.7039567  0.70556825 0.70131088 0.71651233 0.72293446\n",
      " 0.711365   0.70948888 0.72901984 0.71595911 0.71858088 0.67598316\n",
      " 0.67377029 0.69488876 0.67990379 0.69710162 0.70816597 0.80505111\n",
      " 0.83081179 0.83781118 0.8416356  0.87858088 0.85173782 0.86727601\n",
      " 0.83502105 0.86999399 0.88923632 0.88825015 0.8853638  0.89455201\n",
      " 0.89594708 0.92064943 0.97929044 0.99360192 0.98366807 1.\n",
      " 0.98544799 0.9834997  0.09308479 0.10544799 0.09876127 0.07345761\n",
      " 0.07365003 0.05407096 0.06489477 0.0556825  0.05209862 0.06016837\n",
      " 0.06061335 0.0524113  0.04810583 0.03968731 0.04748046 0.05164161\n",
      " 0.04036079 0.04300661 0.0527721  0.05921828 0.05712568 0.06126278\n",
      " 0.06361996 0.05455201 0.06292243 0.05488876 0.05950692 0.05924233\n",
      " 0.06405292 0.08192423 0.07398677 0.07420325 0.07304871 0.06898376\n",
      " 0.06167168 0.06535177 0.06381239 0.06111846 0.0594107  0.05943476\n",
      " 0.06316296 0.05017438 0.06008419 0.044546   0.04432952 0.04834636\n",
      " 0.05919423 0.06900782 0.06819002 0.06248948 0.06164762 0.07011425\n",
      " 0.06944077 0.06956103 0.07206254 0.06987372 0.06660253 0.06806975\n",
      " 0.06494287 0.05654841 0.05972339 0.06704894]\n",
      "1 day output [[0.06551648]]\n",
      "2 day input [0.7039567  0.70556825 0.70131088 0.71651233 0.72293446 0.711365\n",
      " 0.70948888 0.72901984 0.71595911 0.71858088 0.67598316 0.67377029\n",
      " 0.69488876 0.67990379 0.69710162 0.70816597 0.80505111 0.83081179\n",
      " 0.83781118 0.8416356  0.87858088 0.85173782 0.86727601 0.83502105\n",
      " 0.86999399 0.88923632 0.88825015 0.8853638  0.89455201 0.89594708\n",
      " 0.92064943 0.97929044 0.99360192 0.98366807 1.         0.98544799\n",
      " 0.9834997  0.09308479 0.10544799 0.09876127 0.07345761 0.07365003\n",
      " 0.05407096 0.06489477 0.0556825  0.05209862 0.06016837 0.06061335\n",
      " 0.0524113  0.04810583 0.03968731 0.04748046 0.05164161 0.04036079\n",
      " 0.04300661 0.0527721  0.05921828 0.05712568 0.06126278 0.06361996\n",
      " 0.05455201 0.06292243 0.05488876 0.05950692 0.05924233 0.06405292\n",
      " 0.08192423 0.07398677 0.07420325 0.07304871 0.06898376 0.06167168\n",
      " 0.06535177 0.06381239 0.06111846 0.0594107  0.05943476 0.06316296\n",
      " 0.05017438 0.06008419 0.044546   0.04432952 0.04834636 0.05919423\n",
      " 0.06900782 0.06819002 0.06248948 0.06164762 0.07011425 0.06944077\n",
      " 0.06956103 0.07206254 0.06987372 0.06660253 0.06806975 0.06494287\n",
      " 0.05654841 0.05972339 0.06704894 0.06551648]\n",
      "2 day output [[0.06512974]]\n",
      "3 day input [0.70556825 0.70131088 0.71651233 0.72293446 0.711365   0.70948888\n",
      " 0.72901984 0.71595911 0.71858088 0.67598316 0.67377029 0.69488876\n",
      " 0.67990379 0.69710162 0.70816597 0.80505111 0.83081179 0.83781118\n",
      " 0.8416356  0.87858088 0.85173782 0.86727601 0.83502105 0.86999399\n",
      " 0.88923632 0.88825015 0.8853638  0.89455201 0.89594708 0.92064943\n",
      " 0.97929044 0.99360192 0.98366807 1.         0.98544799 0.9834997\n",
      " 0.09308479 0.10544799 0.09876127 0.07345761 0.07365003 0.05407096\n",
      " 0.06489477 0.0556825  0.05209862 0.06016837 0.06061335 0.0524113\n",
      " 0.04810583 0.03968731 0.04748046 0.05164161 0.04036079 0.04300661\n",
      " 0.0527721  0.05921828 0.05712568 0.06126278 0.06361996 0.05455201\n",
      " 0.06292243 0.05488876 0.05950692 0.05924233 0.06405292 0.08192423\n",
      " 0.07398677 0.07420325 0.07304871 0.06898376 0.06167168 0.06535177\n",
      " 0.06381239 0.06111846 0.0594107  0.05943476 0.06316296 0.05017438\n",
      " 0.06008419 0.044546   0.04432952 0.04834636 0.05919423 0.06900782\n",
      " 0.06819002 0.06248948 0.06164762 0.07011425 0.06944077 0.06956103\n",
      " 0.07206254 0.06987372 0.06660253 0.06806975 0.06494287 0.05654841\n",
      " 0.05972339 0.06704894 0.06551648 0.06512974]\n",
      "3 day output [[0.06557687]]\n",
      "4 day input [0.70131088 0.71651233 0.72293446 0.711365   0.70948888 0.72901984\n",
      " 0.71595911 0.71858088 0.67598316 0.67377029 0.69488876 0.67990379\n",
      " 0.69710162 0.70816597 0.80505111 0.83081179 0.83781118 0.8416356\n",
      " 0.87858088 0.85173782 0.86727601 0.83502105 0.86999399 0.88923632\n",
      " 0.88825015 0.8853638  0.89455201 0.89594708 0.92064943 0.97929044\n",
      " 0.99360192 0.98366807 1.         0.98544799 0.9834997  0.09308479\n",
      " 0.10544799 0.09876127 0.07345761 0.07365003 0.05407096 0.06489477\n",
      " 0.0556825  0.05209862 0.06016837 0.06061335 0.0524113  0.04810583\n",
      " 0.03968731 0.04748046 0.05164161 0.04036079 0.04300661 0.0527721\n",
      " 0.05921828 0.05712568 0.06126278 0.06361996 0.05455201 0.06292243\n",
      " 0.05488876 0.05950692 0.05924233 0.06405292 0.08192423 0.07398677\n",
      " 0.07420325 0.07304871 0.06898376 0.06167168 0.06535177 0.06381239\n",
      " 0.06111846 0.0594107  0.05943476 0.06316296 0.05017438 0.06008419\n",
      " 0.044546   0.04432952 0.04834636 0.05919423 0.06900782 0.06819002\n",
      " 0.06248948 0.06164762 0.07011425 0.06944077 0.06956103 0.07206254\n",
      " 0.06987372 0.06660253 0.06806975 0.06494287 0.05654841 0.05972339\n",
      " 0.06704894 0.06551648 0.06512974 0.06557687]\n",
      "4 day output [[0.06652142]]\n",
      "5 day input [0.71651233 0.72293446 0.711365   0.70948888 0.72901984 0.71595911\n",
      " 0.71858088 0.67598316 0.67377029 0.69488876 0.67990379 0.69710162\n",
      " 0.70816597 0.80505111 0.83081179 0.83781118 0.8416356  0.87858088\n",
      " 0.85173782 0.86727601 0.83502105 0.86999399 0.88923632 0.88825015\n",
      " 0.8853638  0.89455201 0.89594708 0.92064943 0.97929044 0.99360192\n",
      " 0.98366807 1.         0.98544799 0.9834997  0.09308479 0.10544799\n",
      " 0.09876127 0.07345761 0.07365003 0.05407096 0.06489477 0.0556825\n",
      " 0.05209862 0.06016837 0.06061335 0.0524113  0.04810583 0.03968731\n",
      " 0.04748046 0.05164161 0.04036079 0.04300661 0.0527721  0.05921828\n",
      " 0.05712568 0.06126278 0.06361996 0.05455201 0.06292243 0.05488876\n",
      " 0.05950692 0.05924233 0.06405292 0.08192423 0.07398677 0.07420325\n",
      " 0.07304871 0.06898376 0.06167168 0.06535177 0.06381239 0.06111846\n",
      " 0.0594107  0.05943476 0.06316296 0.05017438 0.06008419 0.044546\n",
      " 0.04432952 0.04834636 0.05919423 0.06900782 0.06819002 0.06248948\n",
      " 0.06164762 0.07011425 0.06944077 0.06956103 0.07206254 0.06987372\n",
      " 0.06660253 0.06806975 0.06494287 0.05654841 0.05972339 0.06704894\n",
      " 0.06551648 0.06512974 0.06557687 0.06652142]\n",
      "5 day output [[0.0677232]]\n",
      "6 day input [0.72293446 0.711365   0.70948888 0.72901984 0.71595911 0.71858088\n",
      " 0.67598316 0.67377029 0.69488876 0.67990379 0.69710162 0.70816597\n",
      " 0.80505111 0.83081179 0.83781118 0.8416356  0.87858088 0.85173782\n",
      " 0.86727601 0.83502105 0.86999399 0.88923632 0.88825015 0.8853638\n",
      " 0.89455201 0.89594708 0.92064943 0.97929044 0.99360192 0.98366807\n",
      " 1.         0.98544799 0.9834997  0.09308479 0.10544799 0.09876127\n",
      " 0.07345761 0.07365003 0.05407096 0.06489477 0.0556825  0.05209862\n",
      " 0.06016837 0.06061335 0.0524113  0.04810583 0.03968731 0.04748046\n",
      " 0.05164161 0.04036079 0.04300661 0.0527721  0.05921828 0.05712568\n",
      " 0.06126278 0.06361996 0.05455201 0.06292243 0.05488876 0.05950692\n",
      " 0.05924233 0.06405292 0.08192423 0.07398677 0.07420325 0.07304871\n",
      " 0.06898376 0.06167168 0.06535177 0.06381239 0.06111846 0.0594107\n",
      " 0.05943476 0.06316296 0.05017438 0.06008419 0.044546   0.04432952\n",
      " 0.04834636 0.05919423 0.06900782 0.06819002 0.06248948 0.06164762\n",
      " 0.07011425 0.06944077 0.06956103 0.07206254 0.06987372 0.06660253\n",
      " 0.06806975 0.06494287 0.05654841 0.05972339 0.06704894 0.06551648\n",
      " 0.06512974 0.06557687 0.06652142 0.0677232 ]\n",
      "6 day output [[0.06904126]]\n",
      "7 day input [0.711365   0.70948888 0.72901984 0.71595911 0.71858088 0.67598316\n",
      " 0.67377029 0.69488876 0.67990379 0.69710162 0.70816597 0.80505111\n",
      " 0.83081179 0.83781118 0.8416356  0.87858088 0.85173782 0.86727601\n",
      " 0.83502105 0.86999399 0.88923632 0.88825015 0.8853638  0.89455201\n",
      " 0.89594708 0.92064943 0.97929044 0.99360192 0.98366807 1.\n",
      " 0.98544799 0.9834997  0.09308479 0.10544799 0.09876127 0.07345761\n",
      " 0.07365003 0.05407096 0.06489477 0.0556825  0.05209862 0.06016837\n",
      " 0.06061335 0.0524113  0.04810583 0.03968731 0.04748046 0.05164161\n",
      " 0.04036079 0.04300661 0.0527721  0.05921828 0.05712568 0.06126278\n",
      " 0.06361996 0.05455201 0.06292243 0.05488876 0.05950692 0.05924233\n",
      " 0.06405292 0.08192423 0.07398677 0.07420325 0.07304871 0.06898376\n",
      " 0.06167168 0.06535177 0.06381239 0.06111846 0.0594107  0.05943476\n",
      " 0.06316296 0.05017438 0.06008419 0.044546   0.04432952 0.04834636\n",
      " 0.05919423 0.06900782 0.06819002 0.06248948 0.06164762 0.07011425\n",
      " 0.06944077 0.06956103 0.07206254 0.06987372 0.06660253 0.06806975\n",
      " 0.06494287 0.05654841 0.05972339 0.06704894 0.06551648 0.06512974\n",
      " 0.06557687 0.06652142 0.0677232  0.06904126]\n"
     ]
    },
    {
     "name": "stdout",
     "output_type": "stream",
     "text": [
      "7 day output [[0.07040129]]\n",
      "8 day input [0.70948888 0.72901984 0.71595911 0.71858088 0.67598316 0.67377029\n",
      " 0.69488876 0.67990379 0.69710162 0.70816597 0.80505111 0.83081179\n",
      " 0.83781118 0.8416356  0.87858088 0.85173782 0.86727601 0.83502105\n",
      " 0.86999399 0.88923632 0.88825015 0.8853638  0.89455201 0.89594708\n",
      " 0.92064943 0.97929044 0.99360192 0.98366807 1.         0.98544799\n",
      " 0.9834997  0.09308479 0.10544799 0.09876127 0.07345761 0.07365003\n",
      " 0.05407096 0.06489477 0.0556825  0.05209862 0.06016837 0.06061335\n",
      " 0.0524113  0.04810583 0.03968731 0.04748046 0.05164161 0.04036079\n",
      " 0.04300661 0.0527721  0.05921828 0.05712568 0.06126278 0.06361996\n",
      " 0.05455201 0.06292243 0.05488876 0.05950692 0.05924233 0.06405292\n",
      " 0.08192423 0.07398677 0.07420325 0.07304871 0.06898376 0.06167168\n",
      " 0.06535177 0.06381239 0.06111846 0.0594107  0.05943476 0.06316296\n",
      " 0.05017438 0.06008419 0.044546   0.04432952 0.04834636 0.05919423\n",
      " 0.06900782 0.06819002 0.06248948 0.06164762 0.07011425 0.06944077\n",
      " 0.06956103 0.07206254 0.06987372 0.06660253 0.06806975 0.06494287\n",
      " 0.05654841 0.05972339 0.06704894 0.06551648 0.06512974 0.06557687\n",
      " 0.06652142 0.0677232  0.06904126 0.07040129]\n",
      "8 day output [[0.07176443]]\n",
      "9 day input [0.72901984 0.71595911 0.71858088 0.67598316 0.67377029 0.69488876\n",
      " 0.67990379 0.69710162 0.70816597 0.80505111 0.83081179 0.83781118\n",
      " 0.8416356  0.87858088 0.85173782 0.86727601 0.83502105 0.86999399\n",
      " 0.88923632 0.88825015 0.8853638  0.89455201 0.89594708 0.92064943\n",
      " 0.97929044 0.99360192 0.98366807 1.         0.98544799 0.9834997\n",
      " 0.09308479 0.10544799 0.09876127 0.07345761 0.07365003 0.05407096\n",
      " 0.06489477 0.0556825  0.05209862 0.06016837 0.06061335 0.0524113\n",
      " 0.04810583 0.03968731 0.04748046 0.05164161 0.04036079 0.04300661\n",
      " 0.0527721  0.05921828 0.05712568 0.06126278 0.06361996 0.05455201\n",
      " 0.06292243 0.05488876 0.05950692 0.05924233 0.06405292 0.08192423\n",
      " 0.07398677 0.07420325 0.07304871 0.06898376 0.06167168 0.06535177\n",
      " 0.06381239 0.06111846 0.0594107  0.05943476 0.06316296 0.05017438\n",
      " 0.06008419 0.044546   0.04432952 0.04834636 0.05919423 0.06900782\n",
      " 0.06819002 0.06248948 0.06164762 0.07011425 0.06944077 0.06956103\n",
      " 0.07206254 0.06987372 0.06660253 0.06806975 0.06494287 0.05654841\n",
      " 0.05972339 0.06704894 0.06551648 0.06512974 0.06557687 0.06652142\n",
      " 0.0677232  0.06904126 0.07040129 0.07176443]\n",
      "9 day output [[0.07310759]]\n",
      "10 day input [0.71595911 0.71858088 0.67598316 0.67377029 0.69488876 0.67990379\n",
      " 0.69710162 0.70816597 0.80505111 0.83081179 0.83781118 0.8416356\n",
      " 0.87858088 0.85173782 0.86727601 0.83502105 0.86999399 0.88923632\n",
      " 0.88825015 0.8853638  0.89455201 0.89594708 0.92064943 0.97929044\n",
      " 0.99360192 0.98366807 1.         0.98544799 0.9834997  0.09308479\n",
      " 0.10544799 0.09876127 0.07345761 0.07365003 0.05407096 0.06489477\n",
      " 0.0556825  0.05209862 0.06016837 0.06061335 0.0524113  0.04810583\n",
      " 0.03968731 0.04748046 0.05164161 0.04036079 0.04300661 0.0527721\n",
      " 0.05921828 0.05712568 0.06126278 0.06361996 0.05455201 0.06292243\n",
      " 0.05488876 0.05950692 0.05924233 0.06405292 0.08192423 0.07398677\n",
      " 0.07420325 0.07304871 0.06898376 0.06167168 0.06535177 0.06381239\n",
      " 0.06111846 0.0594107  0.05943476 0.06316296 0.05017438 0.06008419\n",
      " 0.044546   0.04432952 0.04834636 0.05919423 0.06900782 0.06819002\n",
      " 0.06248948 0.06164762 0.07011425 0.06944077 0.06956103 0.07206254\n",
      " 0.06987372 0.06660253 0.06806975 0.06494287 0.05654841 0.05972339\n",
      " 0.06704894 0.06551648 0.06512974 0.06557687 0.06652142 0.0677232\n",
      " 0.06904126 0.07040129 0.07176443 0.07310759]\n",
      "10 day output [[0.07441399]]\n",
      "11 day input [0.71858088 0.67598316 0.67377029 0.69488876 0.67990379 0.69710162\n",
      " 0.70816597 0.80505111 0.83081179 0.83781118 0.8416356  0.87858088\n",
      " 0.85173782 0.86727601 0.83502105 0.86999399 0.88923632 0.88825015\n",
      " 0.8853638  0.89455201 0.89594708 0.92064943 0.97929044 0.99360192\n",
      " 0.98366807 1.         0.98544799 0.9834997  0.09308479 0.10544799\n",
      " 0.09876127 0.07345761 0.07365003 0.05407096 0.06489477 0.0556825\n",
      " 0.05209862 0.06016837 0.06061335 0.0524113  0.04810583 0.03968731\n",
      " 0.04748046 0.05164161 0.04036079 0.04300661 0.0527721  0.05921828\n",
      " 0.05712568 0.06126278 0.06361996 0.05455201 0.06292243 0.05488876\n",
      " 0.05950692 0.05924233 0.06405292 0.08192423 0.07398677 0.07420325\n",
      " 0.07304871 0.06898376 0.06167168 0.06535177 0.06381239 0.06111846\n",
      " 0.0594107  0.05943476 0.06316296 0.05017438 0.06008419 0.044546\n",
      " 0.04432952 0.04834636 0.05919423 0.06900782 0.06819002 0.06248948\n",
      " 0.06164762 0.07011425 0.06944077 0.06956103 0.07206254 0.06987372\n",
      " 0.06660253 0.06806975 0.06494287 0.05654841 0.05972339 0.06704894\n",
      " 0.06551648 0.06512974 0.06557687 0.06652142 0.0677232  0.06904126\n",
      " 0.07040129 0.07176443 0.07310759 0.07441399]\n",
      "11 day output [[0.07567036]]\n",
      "12 day input [0.67598316 0.67377029 0.69488876 0.67990379 0.69710162 0.70816597\n",
      " 0.80505111 0.83081179 0.83781118 0.8416356  0.87858088 0.85173782\n",
      " 0.86727601 0.83502105 0.86999399 0.88923632 0.88825015 0.8853638\n",
      " 0.89455201 0.89594708 0.92064943 0.97929044 0.99360192 0.98366807\n",
      " 1.         0.98544799 0.9834997  0.09308479 0.10544799 0.09876127\n",
      " 0.07345761 0.07365003 0.05407096 0.06489477 0.0556825  0.05209862\n",
      " 0.06016837 0.06061335 0.0524113  0.04810583 0.03968731 0.04748046\n",
      " 0.05164161 0.04036079 0.04300661 0.0527721  0.05921828 0.05712568\n",
      " 0.06126278 0.06361996 0.05455201 0.06292243 0.05488876 0.05950692\n",
      " 0.05924233 0.06405292 0.08192423 0.07398677 0.07420325 0.07304871\n",
      " 0.06898376 0.06167168 0.06535177 0.06381239 0.06111846 0.0594107\n",
      " 0.05943476 0.06316296 0.05017438 0.06008419 0.044546   0.04432952\n",
      " 0.04834636 0.05919423 0.06900782 0.06819002 0.06248948 0.06164762\n",
      " 0.07011425 0.06944077 0.06956103 0.07206254 0.06987372 0.06660253\n",
      " 0.06806975 0.06494287 0.05654841 0.05972339 0.06704894 0.06551648\n",
      " 0.06512974 0.06557687 0.06652142 0.0677232  0.06904126 0.07040129\n",
      " 0.07176443 0.07310759 0.07441399 0.07567036]\n",
      "12 day output [[0.07686654]]\n",
      "13 day input [0.67377029 0.69488876 0.67990379 0.69710162 0.70816597 0.80505111\n",
      " 0.83081179 0.83781118 0.8416356  0.87858088 0.85173782 0.86727601\n",
      " 0.83502105 0.86999399 0.88923632 0.88825015 0.8853638  0.89455201\n",
      " 0.89594708 0.92064943 0.97929044 0.99360192 0.98366807 1.\n",
      " 0.98544799 0.9834997  0.09308479 0.10544799 0.09876127 0.07345761\n",
      " 0.07365003 0.05407096 0.06489477 0.0556825  0.05209862 0.06016837\n",
      " 0.06061335 0.0524113  0.04810583 0.03968731 0.04748046 0.05164161\n",
      " 0.04036079 0.04300661 0.0527721  0.05921828 0.05712568 0.06126278\n",
      " 0.06361996 0.05455201 0.06292243 0.05488876 0.05950692 0.05924233\n",
      " 0.06405292 0.08192423 0.07398677 0.07420325 0.07304871 0.06898376\n",
      " 0.06167168 0.06535177 0.06381239 0.06111846 0.0594107  0.05943476\n",
      " 0.06316296 0.05017438 0.06008419 0.044546   0.04432952 0.04834636\n",
      " 0.05919423 0.06900782 0.06819002 0.06248948 0.06164762 0.07011425\n",
      " 0.06944077 0.06956103 0.07206254 0.06987372 0.06660253 0.06806975\n",
      " 0.06494287 0.05654841 0.05972339 0.06704894 0.06551648 0.06512974\n",
      " 0.06557687 0.06652142 0.0677232  0.06904126 0.07040129 0.07176443\n",
      " 0.07310759 0.07441399 0.07567036 0.07686654]\n",
      "13 day output [[0.07799596]]\n",
      "14 day input [0.69488876 0.67990379 0.69710162 0.70816597 0.80505111 0.83081179\n",
      " 0.83781118 0.8416356  0.87858088 0.85173782 0.86727601 0.83502105\n",
      " 0.86999399 0.88923632 0.88825015 0.8853638  0.89455201 0.89594708\n",
      " 0.92064943 0.97929044 0.99360192 0.98366807 1.         0.98544799\n",
      " 0.9834997  0.09308479 0.10544799 0.09876127 0.07345761 0.07365003\n",
      " 0.05407096 0.06489477 0.0556825  0.05209862 0.06016837 0.06061335\n",
      " 0.0524113  0.04810583 0.03968731 0.04748046 0.05164161 0.04036079\n",
      " 0.04300661 0.0527721  0.05921828 0.05712568 0.06126278 0.06361996\n",
      " 0.05455201 0.06292243 0.05488876 0.05950692 0.05924233 0.06405292\n",
      " 0.08192423 0.07398677 0.07420325 0.07304871 0.06898376 0.06167168\n",
      " 0.06535177 0.06381239 0.06111846 0.0594107  0.05943476 0.06316296\n",
      " 0.05017438 0.06008419 0.044546   0.04432952 0.04834636 0.05919423\n",
      " 0.06900782 0.06819002 0.06248948 0.06164762 0.07011425 0.06944077\n",
      " 0.06956103 0.07206254 0.06987372 0.06660253 0.06806975 0.06494287\n",
      " 0.05654841 0.05972339 0.06704894 0.06551648 0.06512974 0.06557687\n",
      " 0.06652142 0.0677232  0.06904126 0.07040129 0.07176443 0.07310759\n",
      " 0.07441399 0.07567036 0.07686654 0.07799596]\n",
      "14 day output [[0.07905584]]\n",
      "15 day input [0.67990379 0.69710162 0.70816597 0.80505111 0.83081179 0.83781118\n",
      " 0.8416356  0.87858088 0.85173782 0.86727601 0.83502105 0.86999399\n",
      " 0.88923632 0.88825015 0.8853638  0.89455201 0.89594708 0.92064943\n",
      " 0.97929044 0.99360192 0.98366807 1.         0.98544799 0.9834997\n",
      " 0.09308479 0.10544799 0.09876127 0.07345761 0.07365003 0.05407096\n",
      " 0.06489477 0.0556825  0.05209862 0.06016837 0.06061335 0.0524113\n",
      " 0.04810583 0.03968731 0.04748046 0.05164161 0.04036079 0.04300661\n",
      " 0.0527721  0.05921828 0.05712568 0.06126278 0.06361996 0.05455201\n",
      " 0.06292243 0.05488876 0.05950692 0.05924233 0.06405292 0.08192423\n",
      " 0.07398677 0.07420325 0.07304871 0.06898376 0.06167168 0.06535177\n",
      " 0.06381239 0.06111846 0.0594107  0.05943476 0.06316296 0.05017438\n",
      " 0.06008419 0.044546   0.04432952 0.04834636 0.05919423 0.06900782\n",
      " 0.06819002 0.06248948 0.06164762 0.07011425 0.06944077 0.06956103\n",
      " 0.07206254 0.06987372 0.06660253 0.06806975 0.06494287 0.05654841\n",
      " 0.05972339 0.06704894 0.06551648 0.06512974 0.06557687 0.06652142\n",
      " 0.0677232  0.06904126 0.07040129 0.07176443 0.07310759 0.07441399\n",
      " 0.07567036 0.07686654 0.07799596 0.07905584]\n",
      "15 day output [[0.08004701]]\n",
      "16 day input [0.69710162 0.70816597 0.80505111 0.83081179 0.83781118 0.8416356\n",
      " 0.87858088 0.85173782 0.86727601 0.83502105 0.86999399 0.88923632\n",
      " 0.88825015 0.8853638  0.89455201 0.89594708 0.92064943 0.97929044\n",
      " 0.99360192 0.98366807 1.         0.98544799 0.9834997  0.09308479\n",
      " 0.10544799 0.09876127 0.07345761 0.07365003 0.05407096 0.06489477\n",
      " 0.0556825  0.05209862 0.06016837 0.06061335 0.0524113  0.04810583\n",
      " 0.03968731 0.04748046 0.05164161 0.04036079 0.04300661 0.0527721\n",
      " 0.05921828 0.05712568 0.06126278 0.06361996 0.05455201 0.06292243\n",
      " 0.05488876 0.05950692 0.05924233 0.06405292 0.08192423 0.07398677\n",
      " 0.07420325 0.07304871 0.06898376 0.06167168 0.06535177 0.06381239\n",
      " 0.06111846 0.0594107  0.05943476 0.06316296 0.05017438 0.06008419\n",
      " 0.044546   0.04432952 0.04834636 0.05919423 0.06900782 0.06819002\n",
      " 0.06248948 0.06164762 0.07011425 0.06944077 0.06956103 0.07206254\n",
      " 0.06987372 0.06660253 0.06806975 0.06494287 0.05654841 0.05972339\n",
      " 0.06704894 0.06551648 0.06512974 0.06557687 0.06652142 0.0677232\n",
      " 0.06904126 0.07040129 0.07176443 0.07310759 0.07441399 0.07567036\n",
      " 0.07686654 0.07799596 0.07905584 0.08004701]\n"
     ]
    },
    {
     "name": "stdout",
     "output_type": "stream",
     "text": [
      "16 day output [[0.08097353]]\n",
      "17 day input [0.70816597 0.80505111 0.83081179 0.83781118 0.8416356  0.87858088\n",
      " 0.85173782 0.86727601 0.83502105 0.86999399 0.88923632 0.88825015\n",
      " 0.8853638  0.89455201 0.89594708 0.92064943 0.97929044 0.99360192\n",
      " 0.98366807 1.         0.98544799 0.9834997  0.09308479 0.10544799\n",
      " 0.09876127 0.07345761 0.07365003 0.05407096 0.06489477 0.0556825\n",
      " 0.05209862 0.06016837 0.06061335 0.0524113  0.04810583 0.03968731\n",
      " 0.04748046 0.05164161 0.04036079 0.04300661 0.0527721  0.05921828\n",
      " 0.05712568 0.06126278 0.06361996 0.05455201 0.06292243 0.05488876\n",
      " 0.05950692 0.05924233 0.06405292 0.08192423 0.07398677 0.07420325\n",
      " 0.07304871 0.06898376 0.06167168 0.06535177 0.06381239 0.06111846\n",
      " 0.0594107  0.05943476 0.06316296 0.05017438 0.06008419 0.044546\n",
      " 0.04432952 0.04834636 0.05919423 0.06900782 0.06819002 0.06248948\n",
      " 0.06164762 0.07011425 0.06944077 0.06956103 0.07206254 0.06987372\n",
      " 0.06660253 0.06806975 0.06494287 0.05654841 0.05972339 0.06704894\n",
      " 0.06551648 0.06512974 0.06557687 0.06652142 0.0677232  0.06904126\n",
      " 0.07040129 0.07176443 0.07310759 0.07441399 0.07567036 0.07686654\n",
      " 0.07799596 0.07905584 0.08004701 0.08097353]\n",
      "17 day output [[0.0818418]]\n",
      "18 day input [0.80505111 0.83081179 0.83781118 0.8416356  0.87858088 0.85173782\n",
      " 0.86727601 0.83502105 0.86999399 0.88923632 0.88825015 0.8853638\n",
      " 0.89455201 0.89594708 0.92064943 0.97929044 0.99360192 0.98366807\n",
      " 1.         0.98544799 0.9834997  0.09308479 0.10544799 0.09876127\n",
      " 0.07345761 0.07365003 0.05407096 0.06489477 0.0556825  0.05209862\n",
      " 0.06016837 0.06061335 0.0524113  0.04810583 0.03968731 0.04748046\n",
      " 0.05164161 0.04036079 0.04300661 0.0527721  0.05921828 0.05712568\n",
      " 0.06126278 0.06361996 0.05455201 0.06292243 0.05488876 0.05950692\n",
      " 0.05924233 0.06405292 0.08192423 0.07398677 0.07420325 0.07304871\n",
      " 0.06898376 0.06167168 0.06535177 0.06381239 0.06111846 0.0594107\n",
      " 0.05943476 0.06316296 0.05017438 0.06008419 0.044546   0.04432952\n",
      " 0.04834636 0.05919423 0.06900782 0.06819002 0.06248948 0.06164762\n",
      " 0.07011425 0.06944077 0.06956103 0.07206254 0.06987372 0.06660253\n",
      " 0.06806975 0.06494287 0.05654841 0.05972339 0.06704894 0.06551648\n",
      " 0.06512974 0.06557687 0.06652142 0.0677232  0.06904126 0.07040129\n",
      " 0.07176443 0.07310759 0.07441399 0.07567036 0.07686654 0.07799596\n",
      " 0.07905584 0.08004701 0.08097353 0.0818418 ]\n",
      "18 day output [[0.08266002]]\n",
      "19 day input [0.83081179 0.83781118 0.8416356  0.87858088 0.85173782 0.86727601\n",
      " 0.83502105 0.86999399 0.88923632 0.88825015 0.8853638  0.89455201\n",
      " 0.89594708 0.92064943 0.97929044 0.99360192 0.98366807 1.\n",
      " 0.98544799 0.9834997  0.09308479 0.10544799 0.09876127 0.07345761\n",
      " 0.07365003 0.05407096 0.06489477 0.0556825  0.05209862 0.06016837\n",
      " 0.06061335 0.0524113  0.04810583 0.03968731 0.04748046 0.05164161\n",
      " 0.04036079 0.04300661 0.0527721  0.05921828 0.05712568 0.06126278\n",
      " 0.06361996 0.05455201 0.06292243 0.05488876 0.05950692 0.05924233\n",
      " 0.06405292 0.08192423 0.07398677 0.07420325 0.07304871 0.06898376\n",
      " 0.06167168 0.06535177 0.06381239 0.06111846 0.0594107  0.05943476\n",
      " 0.06316296 0.05017438 0.06008419 0.044546   0.04432952 0.04834636\n",
      " 0.05919423 0.06900782 0.06819002 0.06248948 0.06164762 0.07011425\n",
      " 0.06944077 0.06956103 0.07206254 0.06987372 0.06660253 0.06806975\n",
      " 0.06494287 0.05654841 0.05972339 0.06704894 0.06551648 0.06512974\n",
      " 0.06557687 0.06652142 0.0677232  0.06904126 0.07040129 0.07176443\n",
      " 0.07310759 0.07441399 0.07567036 0.07686654 0.07799596 0.07905584\n",
      " 0.08004701 0.08097353 0.0818418  0.08266002]\n",
      "19 day output [[0.08343715]]\n",
      "20 day input [0.83781118 0.8416356  0.87858088 0.85173782 0.86727601 0.83502105\n",
      " 0.86999399 0.88923632 0.88825015 0.8853638  0.89455201 0.89594708\n",
      " 0.92064943 0.97929044 0.99360192 0.98366807 1.         0.98544799\n",
      " 0.9834997  0.09308479 0.10544799 0.09876127 0.07345761 0.07365003\n",
      " 0.05407096 0.06489477 0.0556825  0.05209862 0.06016837 0.06061335\n",
      " 0.0524113  0.04810583 0.03968731 0.04748046 0.05164161 0.04036079\n",
      " 0.04300661 0.0527721  0.05921828 0.05712568 0.06126278 0.06361996\n",
      " 0.05455201 0.06292243 0.05488876 0.05950692 0.05924233 0.06405292\n",
      " 0.08192423 0.07398677 0.07420325 0.07304871 0.06898376 0.06167168\n",
      " 0.06535177 0.06381239 0.06111846 0.0594107  0.05943476 0.06316296\n",
      " 0.05017438 0.06008419 0.044546   0.04432952 0.04834636 0.05919423\n",
      " 0.06900782 0.06819002 0.06248948 0.06164762 0.07011425 0.06944077\n",
      " 0.06956103 0.07206254 0.06987372 0.06660253 0.06806975 0.06494287\n",
      " 0.05654841 0.05972339 0.06704894 0.06551648 0.06512974 0.06557687\n",
      " 0.06652142 0.0677232  0.06904126 0.07040129 0.07176443 0.07310759\n",
      " 0.07441399 0.07567036 0.07686654 0.07799596 0.07905584 0.08004701\n",
      " 0.08097353 0.0818418  0.08266002 0.08343715]\n",
      "20 day output [[0.08418284]]\n",
      "21 day input [0.8416356  0.87858088 0.85173782 0.86727601 0.83502105 0.86999399\n",
      " 0.88923632 0.88825015 0.8853638  0.89455201 0.89594708 0.92064943\n",
      " 0.97929044 0.99360192 0.98366807 1.         0.98544799 0.9834997\n",
      " 0.09308479 0.10544799 0.09876127 0.07345761 0.07365003 0.05407096\n",
      " 0.06489477 0.0556825  0.05209862 0.06016837 0.06061335 0.0524113\n",
      " 0.04810583 0.03968731 0.04748046 0.05164161 0.04036079 0.04300661\n",
      " 0.0527721  0.05921828 0.05712568 0.06126278 0.06361996 0.05455201\n",
      " 0.06292243 0.05488876 0.05950692 0.05924233 0.06405292 0.08192423\n",
      " 0.07398677 0.07420325 0.07304871 0.06898376 0.06167168 0.06535177\n",
      " 0.06381239 0.06111846 0.0594107  0.05943476 0.06316296 0.05017438\n",
      " 0.06008419 0.044546   0.04432952 0.04834636 0.05919423 0.06900782\n",
      " 0.06819002 0.06248948 0.06164762 0.07011425 0.06944077 0.06956103\n",
      " 0.07206254 0.06987372 0.06660253 0.06806975 0.06494287 0.05654841\n",
      " 0.05972339 0.06704894 0.06551648 0.06512974 0.06557687 0.06652142\n",
      " 0.0677232  0.06904126 0.07040129 0.07176443 0.07310759 0.07441399\n",
      " 0.07567036 0.07686654 0.07799596 0.07905584 0.08004701 0.08097353\n",
      " 0.0818418  0.08266002 0.08343715 0.08418284]\n",
      "21 day output [[0.0849065]]\n",
      "22 day input [0.87858088 0.85173782 0.86727601 0.83502105 0.86999399 0.88923632\n",
      " 0.88825015 0.8853638  0.89455201 0.89594708 0.92064943 0.97929044\n",
      " 0.99360192 0.98366807 1.         0.98544799 0.9834997  0.09308479\n",
      " 0.10544799 0.09876127 0.07345761 0.07365003 0.05407096 0.06489477\n",
      " 0.0556825  0.05209862 0.06016837 0.06061335 0.0524113  0.04810583\n",
      " 0.03968731 0.04748046 0.05164161 0.04036079 0.04300661 0.0527721\n",
      " 0.05921828 0.05712568 0.06126278 0.06361996 0.05455201 0.06292243\n",
      " 0.05488876 0.05950692 0.05924233 0.06405292 0.08192423 0.07398677\n",
      " 0.07420325 0.07304871 0.06898376 0.06167168 0.06535177 0.06381239\n",
      " 0.06111846 0.0594107  0.05943476 0.06316296 0.05017438 0.06008419\n",
      " 0.044546   0.04432952 0.04834636 0.05919423 0.06900782 0.06819002\n",
      " 0.06248948 0.06164762 0.07011425 0.06944077 0.06956103 0.07206254\n",
      " 0.06987372 0.06660253 0.06806975 0.06494287 0.05654841 0.05972339\n",
      " 0.06704894 0.06551648 0.06512974 0.06557687 0.06652142 0.0677232\n",
      " 0.06904126 0.07040129 0.07176443 0.07310759 0.07441399 0.07567036\n",
      " 0.07686654 0.07799596 0.07905584 0.08004701 0.08097353 0.0818418\n",
      " 0.08266002 0.08343715 0.08418284 0.0849065 ]\n",
      "22 day output [[0.08561686]]\n",
      "23 day input [0.85173782 0.86727601 0.83502105 0.86999399 0.88923632 0.88825015\n",
      " 0.8853638  0.89455201 0.89594708 0.92064943 0.97929044 0.99360192\n",
      " 0.98366807 1.         0.98544799 0.9834997  0.09308479 0.10544799\n",
      " 0.09876127 0.07345761 0.07365003 0.05407096 0.06489477 0.0556825\n",
      " 0.05209862 0.06016837 0.06061335 0.0524113  0.04810583 0.03968731\n",
      " 0.04748046 0.05164161 0.04036079 0.04300661 0.0527721  0.05921828\n",
      " 0.05712568 0.06126278 0.06361996 0.05455201 0.06292243 0.05488876\n",
      " 0.05950692 0.05924233 0.06405292 0.08192423 0.07398677 0.07420325\n",
      " 0.07304871 0.06898376 0.06167168 0.06535177 0.06381239 0.06111846\n",
      " 0.0594107  0.05943476 0.06316296 0.05017438 0.06008419 0.044546\n",
      " 0.04432952 0.04834636 0.05919423 0.06900782 0.06819002 0.06248948\n",
      " 0.06164762 0.07011425 0.06944077 0.06956103 0.07206254 0.06987372\n",
      " 0.06660253 0.06806975 0.06494287 0.05654841 0.05972339 0.06704894\n",
      " 0.06551648 0.06512974 0.06557687 0.06652142 0.0677232  0.06904126\n",
      " 0.07040129 0.07176443 0.07310759 0.07441399 0.07567036 0.07686654\n",
      " 0.07799596 0.07905584 0.08004701 0.08097353 0.0818418  0.08266002\n",
      " 0.08343715 0.08418284 0.0849065  0.08561686]\n",
      "23 day output [[0.08632178]]\n",
      "24 day input [0.86727601 0.83502105 0.86999399 0.88923632 0.88825015 0.8853638\n",
      " 0.89455201 0.89594708 0.92064943 0.97929044 0.99360192 0.98366807\n",
      " 1.         0.98544799 0.9834997  0.09308479 0.10544799 0.09876127\n",
      " 0.07345761 0.07365003 0.05407096 0.06489477 0.0556825  0.05209862\n",
      " 0.06016837 0.06061335 0.0524113  0.04810583 0.03968731 0.04748046\n",
      " 0.05164161 0.04036079 0.04300661 0.0527721  0.05921828 0.05712568\n",
      " 0.06126278 0.06361996 0.05455201 0.06292243 0.05488876 0.05950692\n",
      " 0.05924233 0.06405292 0.08192423 0.07398677 0.07420325 0.07304871\n",
      " 0.06898376 0.06167168 0.06535177 0.06381239 0.06111846 0.0594107\n",
      " 0.05943476 0.06316296 0.05017438 0.06008419 0.044546   0.04432952\n",
      " 0.04834636 0.05919423 0.06900782 0.06819002 0.06248948 0.06164762\n",
      " 0.07011425 0.06944077 0.06956103 0.07206254 0.06987372 0.06660253\n",
      " 0.06806975 0.06494287 0.05654841 0.05972339 0.06704894 0.06551648\n",
      " 0.06512974 0.06557687 0.06652142 0.0677232  0.06904126 0.07040129\n",
      " 0.07176443 0.07310759 0.07441399 0.07567036 0.07686654 0.07799596\n",
      " 0.07905584 0.08004701 0.08097353 0.0818418  0.08266002 0.08343715\n",
      " 0.08418284 0.0849065  0.08561686 0.08632178]\n",
      "24 day output [[0.08702819]]\n",
      "25 day input [0.83502105 0.86999399 0.88923632 0.88825015 0.8853638  0.89455201\n",
      " 0.89594708 0.92064943 0.97929044 0.99360192 0.98366807 1.\n",
      " 0.98544799 0.9834997  0.09308479 0.10544799 0.09876127 0.07345761\n",
      " 0.07365003 0.05407096 0.06489477 0.0556825  0.05209862 0.06016837\n",
      " 0.06061335 0.0524113  0.04810583 0.03968731 0.04748046 0.05164161\n",
      " 0.04036079 0.04300661 0.0527721  0.05921828 0.05712568 0.06126278\n",
      " 0.06361996 0.05455201 0.06292243 0.05488876 0.05950692 0.05924233\n",
      " 0.06405292 0.08192423 0.07398677 0.07420325 0.07304871 0.06898376\n",
      " 0.06167168 0.06535177 0.06381239 0.06111846 0.0594107  0.05943476\n",
      " 0.06316296 0.05017438 0.06008419 0.044546   0.04432952 0.04834636\n",
      " 0.05919423 0.06900782 0.06819002 0.06248948 0.06164762 0.07011425\n",
      " 0.06944077 0.06956103 0.07206254 0.06987372 0.06660253 0.06806975\n",
      " 0.06494287 0.05654841 0.05972339 0.06704894 0.06551648 0.06512974\n",
      " 0.06557687 0.06652142 0.0677232  0.06904126 0.07040129 0.07176443\n",
      " 0.07310759 0.07441399 0.07567036 0.07686654 0.07799596 0.07905584\n",
      " 0.08004701 0.08097353 0.0818418  0.08266002 0.08343715 0.08418284\n",
      " 0.0849065  0.08561686 0.08632178 0.08702819]\n"
     ]
    },
    {
     "name": "stdout",
     "output_type": "stream",
     "text": [
      "25 day output [[0.08774158]]\n",
      "26 day input [0.86999399 0.88923632 0.88825015 0.8853638  0.89455201 0.89594708\n",
      " 0.92064943 0.97929044 0.99360192 0.98366807 1.         0.98544799\n",
      " 0.9834997  0.09308479 0.10544799 0.09876127 0.07345761 0.07365003\n",
      " 0.05407096 0.06489477 0.0556825  0.05209862 0.06016837 0.06061335\n",
      " 0.0524113  0.04810583 0.03968731 0.04748046 0.05164161 0.04036079\n",
      " 0.04300661 0.0527721  0.05921828 0.05712568 0.06126278 0.06361996\n",
      " 0.05455201 0.06292243 0.05488876 0.05950692 0.05924233 0.06405292\n",
      " 0.08192423 0.07398677 0.07420325 0.07304871 0.06898376 0.06167168\n",
      " 0.06535177 0.06381239 0.06111846 0.0594107  0.05943476 0.06316296\n",
      " 0.05017438 0.06008419 0.044546   0.04432952 0.04834636 0.05919423\n",
      " 0.06900782 0.06819002 0.06248948 0.06164762 0.07011425 0.06944077\n",
      " 0.06956103 0.07206254 0.06987372 0.06660253 0.06806975 0.06494287\n",
      " 0.05654841 0.05972339 0.06704894 0.06551648 0.06512974 0.06557687\n",
      " 0.06652142 0.0677232  0.06904126 0.07040129 0.07176443 0.07310759\n",
      " 0.07441399 0.07567036 0.07686654 0.07799596 0.07905584 0.08004701\n",
      " 0.08097353 0.0818418  0.08266002 0.08343715 0.08418284 0.0849065\n",
      " 0.08561686 0.08632178 0.08702819 0.08774158]\n",
      "26 day output [[0.0884664]]\n",
      "27 day input [0.88923632 0.88825015 0.8853638  0.89455201 0.89594708 0.92064943\n",
      " 0.97929044 0.99360192 0.98366807 1.         0.98544799 0.9834997\n",
      " 0.09308479 0.10544799 0.09876127 0.07345761 0.07365003 0.05407096\n",
      " 0.06489477 0.0556825  0.05209862 0.06016837 0.06061335 0.0524113\n",
      " 0.04810583 0.03968731 0.04748046 0.05164161 0.04036079 0.04300661\n",
      " 0.0527721  0.05921828 0.05712568 0.06126278 0.06361996 0.05455201\n",
      " 0.06292243 0.05488876 0.05950692 0.05924233 0.06405292 0.08192423\n",
      " 0.07398677 0.07420325 0.07304871 0.06898376 0.06167168 0.06535177\n",
      " 0.06381239 0.06111846 0.0594107  0.05943476 0.06316296 0.05017438\n",
      " 0.06008419 0.044546   0.04432952 0.04834636 0.05919423 0.06900782\n",
      " 0.06819002 0.06248948 0.06164762 0.07011425 0.06944077 0.06956103\n",
      " 0.07206254 0.06987372 0.06660253 0.06806975 0.06494287 0.05654841\n",
      " 0.05972339 0.06704894 0.06551648 0.06512974 0.06557687 0.06652142\n",
      " 0.0677232  0.06904126 0.07040129 0.07176443 0.07310759 0.07441399\n",
      " 0.07567036 0.07686654 0.07799596 0.07905584 0.08004701 0.08097353\n",
      " 0.0818418  0.08266002 0.08343715 0.08418284 0.0849065  0.08561686\n",
      " 0.08632178 0.08702819 0.08774158 0.0884664 ]\n",
      "27 day output [[0.08920567]]\n",
      "28 day input [0.88825015 0.8853638  0.89455201 0.89594708 0.92064943 0.97929044\n",
      " 0.99360192 0.98366807 1.         0.98544799 0.9834997  0.09308479\n",
      " 0.10544799 0.09876127 0.07345761 0.07365003 0.05407096 0.06489477\n",
      " 0.0556825  0.05209862 0.06016837 0.06061335 0.0524113  0.04810583\n",
      " 0.03968731 0.04748046 0.05164161 0.04036079 0.04300661 0.0527721\n",
      " 0.05921828 0.05712568 0.06126278 0.06361996 0.05455201 0.06292243\n",
      " 0.05488876 0.05950692 0.05924233 0.06405292 0.08192423 0.07398677\n",
      " 0.07420325 0.07304871 0.06898376 0.06167168 0.06535177 0.06381239\n",
      " 0.06111846 0.0594107  0.05943476 0.06316296 0.05017438 0.06008419\n",
      " 0.044546   0.04432952 0.04834636 0.05919423 0.06900782 0.06819002\n",
      " 0.06248948 0.06164762 0.07011425 0.06944077 0.06956103 0.07206254\n",
      " 0.06987372 0.06660253 0.06806975 0.06494287 0.05654841 0.05972339\n",
      " 0.06704894 0.06551648 0.06512974 0.06557687 0.06652142 0.0677232\n",
      " 0.06904126 0.07040129 0.07176443 0.07310759 0.07441399 0.07567036\n",
      " 0.07686654 0.07799596 0.07905584 0.08004701 0.08097353 0.0818418\n",
      " 0.08266002 0.08343715 0.08418284 0.0849065  0.08561686 0.08632178\n",
      " 0.08702819 0.08774158 0.0884664  0.08920567]\n",
      "28 day output [[0.08996136]]\n",
      "29 day input [0.8853638  0.89455201 0.89594708 0.92064943 0.97929044 0.99360192\n",
      " 0.98366807 1.         0.98544799 0.9834997  0.09308479 0.10544799\n",
      " 0.09876127 0.07345761 0.07365003 0.05407096 0.06489477 0.0556825\n",
      " 0.05209862 0.06016837 0.06061335 0.0524113  0.04810583 0.03968731\n",
      " 0.04748046 0.05164161 0.04036079 0.04300661 0.0527721  0.05921828\n",
      " 0.05712568 0.06126278 0.06361996 0.05455201 0.06292243 0.05488876\n",
      " 0.05950692 0.05924233 0.06405292 0.08192423 0.07398677 0.07420325\n",
      " 0.07304871 0.06898376 0.06167168 0.06535177 0.06381239 0.06111846\n",
      " 0.0594107  0.05943476 0.06316296 0.05017438 0.06008419 0.044546\n",
      " 0.04432952 0.04834636 0.05919423 0.06900782 0.06819002 0.06248948\n",
      " 0.06164762 0.07011425 0.06944077 0.06956103 0.07206254 0.06987372\n",
      " 0.06660253 0.06806975 0.06494287 0.05654841 0.05972339 0.06704894\n",
      " 0.06551648 0.06512974 0.06557687 0.06652142 0.0677232  0.06904126\n",
      " 0.07040129 0.07176443 0.07310759 0.07441399 0.07567036 0.07686654\n",
      " 0.07799596 0.07905584 0.08004701 0.08097353 0.0818418  0.08266002\n",
      " 0.08343715 0.08418284 0.0849065  0.08561686 0.08632178 0.08702819\n",
      " 0.08774158 0.0884664  0.08920567 0.08996136]\n",
      "29 day output [[0.09073456]]\n",
      "[[0.06704894453287125], [0.06551647931337357], [0.06512974202632904], [0.06557686626911163], [0.06652142107486725], [0.06772319972515106], [0.06904125958681107], [0.07040128856897354], [0.07176443189382553], [0.07310758531093597], [0.07441399246454239], [0.07567036151885986], [0.07686653733253479], [0.07799596339464188], [0.07905583828687668], [0.08004701137542725], [0.08097352832555771], [0.08184180408716202], [0.0826600193977356], [0.08343715220689774], [0.08418284356594086], [0.08490650355815887], [0.08561685681343079], [0.08632177859544754], [0.08702819049358368], [0.08774157613515854], [0.08846639841794968], [0.08920566737651825], [0.08996135741472244], [0.0907345563173294]]\n"
     ]
    }
   ],
   "source": [
    "# demonstrate prediction for next 10 days\n",
    "from numpy import array\n",
    "\n",
    "lst_output=[]\n",
    "n_steps=100\n",
    "i=0\n",
    "while(i<30):\n",
    "    \n",
    "    if(len(temp_input)>100):\n",
    "        #print(temp_input)\n",
    "        x_input=np.array(temp_input[1:])\n",
    "        print(\"{} day input {}\".format(i,x_input))\n",
    "        x_input=x_input.reshape(1,-1)\n",
    "        x_input = x_input.reshape((1, n_steps, 1))\n",
    "        #print(x_input)\n",
    "        yhat = model.predict(x_input, verbose=0)\n",
    "        print(\"{} day output {}\".format(i,yhat))\n",
    "        temp_input.extend(yhat[0].tolist())\n",
    "        temp_input=temp_input[1:]\n",
    "        #print(temp_input)\n",
    "        lst_output.extend(yhat.tolist())\n",
    "        i=i+1\n",
    "    else:\n",
    "        x_input = x_input.reshape((1, n_steps,1))\n",
    "        yhat = model.predict(x_input, verbose=0)\n",
    "        print(yhat[0])\n",
    "        temp_input.extend(yhat[0].tolist())\n",
    "        print(len(temp_input))\n",
    "        lst_output.extend(yhat.tolist())\n",
    "        i=i+1\n",
    "    \n",
    "\n",
    "print(lst_output)\n"
   ]
  },
  {
   "cell_type": "code",
   "execution_count": 47,
   "metadata": {},
   "outputs": [],
   "source": [
    "day_new = np.arange(1,102)\n",
    "day_pred= np.arange(101,131)\n",
    "prediction_100days = scaler.inverse_transform(df1[1157:])\n",
    "predictions_30days = scaler.inverse_transform(np.array(predictions).reshape(-1,1))"
   ]
  },
  {
   "cell_type": "code",
   "execution_count": 48,
   "metadata": {},
   "outputs": [
    {
     "data": {
      "text/plain": [
       "array([[118.21511856],\n",
       "       [117.57803952],\n",
       "       [117.41724729],\n",
       "       [117.60312371],\n",
       "       [117.99580688],\n",
       "       [118.49545565],\n",
       "       [119.04345143],\n",
       "       [119.60892684],\n",
       "       [120.17571253],\n",
       "       [120.73420291],\n",
       "       [121.27743771],\n",
       "       [121.79986917],\n",
       "       [122.29729697],\n",
       "       [122.76694568],\n",
       "       [123.20771257],\n",
       "       [123.61991359],\n",
       "       [124.00522143],\n",
       "       [124.36633717],\n",
       "       [124.7066248 ],\n",
       "       [125.02989433],\n",
       "       [125.3400518 ],\n",
       "       [125.64103425],\n",
       "       [125.93649681],\n",
       "       [126.22971983],\n",
       "       [126.52350969],\n",
       "       [126.82022987],\n",
       "       [127.12167076],\n",
       "       [127.42915193],\n",
       "       [127.74345087],\n",
       "       [128.06498575]])"
      ]
     },
     "execution_count": 48,
     "metadata": {},
     "output_type": "execute_result"
    }
   ],
   "source": [
    "predictions_30days"
   ]
  },
  {
   "cell_type": "code",
   "execution_count": 49,
   "metadata": {},
   "outputs": [
    {
     "data": {
      "image/png": "[encoded data removed]",
      "text/plain": [
       "<Figure size 1080x360 with 1 Axes>"
      ]
     },
     "metadata": {
      "needs_background": "light"
     },
     "output_type": "display_data"
    }
   ],
   "source": [
    "plt.figure(figsize=(15,5))\n",
    "plt.plot(day_new.reshape(-1,1),prediction_100days)\n",
    "plt.plot(day_pred,predictions_30days)\n",
    "plt.show()"
   ]
  },
  {
   "cell_type": "code",
   "execution_count": 50,
   "metadata": {},
   "outputs": [],
   "source": [
    "dt = prediction_100days.reshape(-1,).tolist()\n",
    "dt.extend(predictions_30days.reshape(-1,).tolist())"
   ]
  },
  {
   "cell_type": "code",
   "execution_count": 51,
   "metadata": {},
   "outputs": [],
   "source": [
    "df3= pd.DataFrame()\n",
    "df3['Predictions'] = dt\n",
    "df3.index = df3.index + 1\n",
    "df3.index.set_names('Days',inplace=True)"
   ]
  },
  {
   "cell_type": "code",
   "execution_count": 52,
   "metadata": {},
   "outputs": [
    {
     "data": {
      "text/html": [
       "<div>\n",
       "<style scoped>\n",
       "    .dataframe tbody tr th:only-of-type {\n",
       "        vertical-align: middle;\n",
       "    }\n",
       "\n",
       "    .dataframe tbody tr th {\n",
       "        vertical-align: top;\n",
       "    }\n",
       "\n",
       "    .dataframe thead th {\n",
       "        text-align: right;\n",
       "    }\n",
       "</style>\n",
       "<table border=\"1\" class=\"dataframe\">\n",
       "  <thead>\n",
       "    <tr style=\"text-align: right;\">\n",
       "      <th></th>\n",
       "      <th>Predictions</th>\n",
       "    </tr>\n",
       "    <tr>\n",
       "      <th>Days</th>\n",
       "      <th></th>\n",
       "    </tr>\n",
       "  </thead>\n",
       "  <tbody>\n",
       "    <tr>\n",
       "      <td>1</td>\n",
       "      <td>373.850000</td>\n",
       "    </tr>\n",
       "    <tr>\n",
       "      <td>2</td>\n",
       "      <td>372.690000</td>\n",
       "    </tr>\n",
       "    <tr>\n",
       "      <td>3</td>\n",
       "      <td>381.370000</td>\n",
       "    </tr>\n",
       "    <tr>\n",
       "      <td>4</td>\n",
       "      <td>383.010000</td>\n",
       "    </tr>\n",
       "    <tr>\n",
       "      <td>5</td>\n",
       "      <td>383.680000</td>\n",
       "    </tr>\n",
       "    <tr>\n",
       "      <td>...</td>\n",
       "      <td>...</td>\n",
       "    </tr>\n",
       "    <tr>\n",
       "      <td>127</td>\n",
       "      <td>126.820230</td>\n",
       "    </tr>\n",
       "    <tr>\n",
       "      <td>128</td>\n",
       "      <td>127.121671</td>\n",
       "    </tr>\n",
       "    <tr>\n",
       "      <td>129</td>\n",
       "      <td>127.429152</td>\n",
       "    </tr>\n",
       "    <tr>\n",
       "      <td>130</td>\n",
       "      <td>127.743451</td>\n",
       "    </tr>\n",
       "    <tr>\n",
       "      <td>131</td>\n",
       "      <td>128.064986</td>\n",
       "    </tr>\n",
       "  </tbody>\n",
       "</table>\n",
       "<p>131 rows × 1 columns</p>\n",
       "</div>"
      ],
      "text/plain": [
       "      Predictions\n",
       "Days             \n",
       "1      373.850000\n",
       "2      372.690000\n",
       "3      381.370000\n",
       "4      383.010000\n",
       "5      383.680000\n",
       "...           ...\n",
       "127    126.820230\n",
       "128    127.121671\n",
       "129    127.429152\n",
       "130    127.743451\n",
       "131    128.064986\n",
       "\n",
       "[131 rows x 1 columns]"
      ]
     },
     "execution_count": 52,
     "metadata": {},
     "output_type": "execute_result"
    }
   ],
   "source": [
    "df3"
   ]
  },
  {
   "cell_type": "code",
   "execution_count": 53,
   "metadata": {},
   "outputs": [
    {
     "data": {
      "text/plain": [
       "[<matplotlib.lines.Line2D at 0x10f37c18148>]"
      ]
     },
     "execution_count": 53,
     "metadata": {},
     "output_type": "execute_result"
    },
    {
     "data": {
      "image/png": "[encoded data removed]",
      "text/plain": [
       "<Figure size 1080x360 with 1 Axes>"
      ]
     },
     "metadata": {
      "needs_background": "light"
     },
     "output_type": "display_data"
    }
   ],
   "source": [
    "plt.figure(figsize=(15,5))\n",
    "plt.plot(df3)"
   ]
  },
  {
   "cell_type": "code",
   "execution_count": null,
   "metadata": {},
   "outputs": [],
   "source": []
  }
 ],
 "metadata": {
  "kernelspec": {
   "display_name": "Python 3",
   "language": "python",
   "name": "python3"
  },
  "language_info": {
   "codemirror_mode": {
    "name": "ipython",
    "version": 3
   },
   "file_extension": ".py",
   "mimetype": "text/x-python",
   "name": "python",
   "nbconvert_exporter": "python",
   "pygments_lexer": "ipython3",
   "version": "3.7.4"
  }
 },
 "nbformat": 4,
 "nbformat_minor": 2
}
