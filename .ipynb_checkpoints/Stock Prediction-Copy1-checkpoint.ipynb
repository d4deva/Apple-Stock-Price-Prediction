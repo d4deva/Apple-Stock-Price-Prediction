{
 "cells": [
  {
   "cell_type": "markdown",
   "metadata": {},
   "source": [
    "### Long Short-Term Memory (LSTM) networks are a type of recurrent neural network capable of learning order dependence in sequence prediction problems.\n",
    "\n"
   ]
  },
  {
   "cell_type": "code",
   "execution_count": 1,
   "metadata": {},
   "outputs": [],
   "source": [
    "#!pip install pandas_datareader\n",
    "#!pip install --upgrade tensorflow\n",
    "#!pip install --upgrade pip\n",
    "#!pip install tensorboard\n",
    "#!pip install tensorboard-plugin-wit\n",
    "#!pip install keras\n",
    "#!pip install tensorflow"
   ]
  },
  {
   "cell_type": "code",
   "execution_count": 2,
   "metadata": {},
   "outputs": [],
   "source": [
    "import pandas_datareader as pdr"
   ]
  },
  {
   "cell_type": "code",
   "execution_count": 3,
   "metadata": {},
   "outputs": [],
   "source": [
    "import pandas as pd \n",
    "import numpy as np"
   ]
  },
  {
   "cell_type": "code",
   "execution_count": 4,
   "metadata": {},
   "outputs": [],
   "source": [
    "key= 'fff8c98763bf1d72d90e64dfdd9f088316905eb7'"
   ]
  },
  {
   "cell_type": "code",
   "execution_count": 5,
   "metadata": {},
   "outputs": [],
   "source": [
    "df= pdr.get_data_tiingo('AAPL',api_key=key)"
   ]
  },
  {
   "cell_type": "code",
   "execution_count": 6,
   "metadata": {},
   "outputs": [
    {
     "data": {
      "text/html": [
       "<div>\n",
       "<style scoped>\n",
       "    .dataframe tbody tr th:only-of-type {\n",
       "        vertical-align: middle;\n",
       "    }\n",
       "\n",
       "    .dataframe tbody tr th {\n",
       "        vertical-align: top;\n",
       "    }\n",
       "\n",
       "    .dataframe thead th {\n",
       "        text-align: right;\n",
       "    }\n",
       "</style>\n",
       "<table border=\"1\" class=\"dataframe\">\n",
       "  <thead>\n",
       "    <tr style=\"text-align: right;\">\n",
       "      <th></th>\n",
       "      <th></th>\n",
       "      <th>close</th>\n",
       "      <th>high</th>\n",
       "      <th>low</th>\n",
       "      <th>open</th>\n",
       "      <th>volume</th>\n",
       "      <th>adjClose</th>\n",
       "      <th>adjHigh</th>\n",
       "      <th>adjLow</th>\n",
       "      <th>adjOpen</th>\n",
       "      <th>adjVolume</th>\n",
       "      <th>divCash</th>\n",
       "      <th>splitFactor</th>\n",
       "    </tr>\n",
       "    <tr>\n",
       "      <th>symbol</th>\n",
       "      <th>date</th>\n",
       "      <th></th>\n",
       "      <th></th>\n",
       "      <th></th>\n",
       "      <th></th>\n",
       "      <th></th>\n",
       "      <th></th>\n",
       "      <th></th>\n",
       "      <th></th>\n",
       "      <th></th>\n",
       "      <th></th>\n",
       "      <th></th>\n",
       "      <th></th>\n",
       "    </tr>\n",
       "  </thead>\n",
       "  <tbody>\n",
       "    <tr>\n",
       "      <td rowspan=\"5\" valign=\"top\">AAPL</td>\n",
       "      <td>2015-11-25 00:00:00+00:00</td>\n",
       "      <td>118.03</td>\n",
       "      <td>119.23</td>\n",
       "      <td>117.92</td>\n",
       "      <td>119.21</td>\n",
       "      <td>21388308</td>\n",
       "      <td>27.334400</td>\n",
       "      <td>27.612307</td>\n",
       "      <td>27.308926</td>\n",
       "      <td>27.607675</td>\n",
       "      <td>85553232</td>\n",
       "      <td>0.0</td>\n",
       "      <td>1.0</td>\n",
       "    </tr>\n",
       "    <tr>\n",
       "      <td>2015-11-27 00:00:00+00:00</td>\n",
       "      <td>117.81</td>\n",
       "      <td>118.41</td>\n",
       "      <td>117.60</td>\n",
       "      <td>118.29</td>\n",
       "      <td>13046445</td>\n",
       "      <td>27.283451</td>\n",
       "      <td>27.422404</td>\n",
       "      <td>27.234817</td>\n",
       "      <td>27.394613</td>\n",
       "      <td>52185780</td>\n",
       "      <td>0.0</td>\n",
       "      <td>1.0</td>\n",
       "    </tr>\n",
       "    <tr>\n",
       "      <td>2015-11-30 00:00:00+00:00</td>\n",
       "      <td>118.30</td>\n",
       "      <td>119.41</td>\n",
       "      <td>117.75</td>\n",
       "      <td>117.99</td>\n",
       "      <td>39180322</td>\n",
       "      <td>27.396929</td>\n",
       "      <td>27.653993</td>\n",
       "      <td>27.269555</td>\n",
       "      <td>27.325137</td>\n",
       "      <td>156721288</td>\n",
       "      <td>0.0</td>\n",
       "      <td>1.0</td>\n",
       "    </tr>\n",
       "    <tr>\n",
       "      <td>2015-12-01 00:00:00+00:00</td>\n",
       "      <td>117.34</td>\n",
       "      <td>118.81</td>\n",
       "      <td>116.86</td>\n",
       "      <td>118.75</td>\n",
       "      <td>34852374</td>\n",
       "      <td>27.174604</td>\n",
       "      <td>27.515039</td>\n",
       "      <td>27.063442</td>\n",
       "      <td>27.501144</td>\n",
       "      <td>139409496</td>\n",
       "      <td>0.0</td>\n",
       "      <td>1.0</td>\n",
       "    </tr>\n",
       "    <tr>\n",
       "      <td>2015-12-02 00:00:00+00:00</td>\n",
       "      <td>116.28</td>\n",
       "      <td>118.11</td>\n",
       "      <td>116.08</td>\n",
       "      <td>117.05</td>\n",
       "      <td>33386563</td>\n",
       "      <td>26.929120</td>\n",
       "      <td>27.352927</td>\n",
       "      <td>26.882803</td>\n",
       "      <td>27.107443</td>\n",
       "      <td>133546252</td>\n",
       "      <td>0.0</td>\n",
       "      <td>1.0</td>\n",
       "    </tr>\n",
       "  </tbody>\n",
       "</table>\n",
       "</div>"
      ],
      "text/plain": [
       "                                   close    high     low    open    volume  \\\n",
       "symbol date                                                                  \n",
       "AAPL   2015-11-25 00:00:00+00:00  118.03  119.23  117.92  119.21  21388308   \n",
       "       2015-11-27 00:00:00+00:00  117.81  118.41  117.60  118.29  13046445   \n",
       "       2015-11-30 00:00:00+00:00  118.30  119.41  117.75  117.99  39180322   \n",
       "       2015-12-01 00:00:00+00:00  117.34  118.81  116.86  118.75  34852374   \n",
       "       2015-12-02 00:00:00+00:00  116.28  118.11  116.08  117.05  33386563   \n",
       "\n",
       "                                   adjClose    adjHigh     adjLow    adjOpen  \\\n",
       "symbol date                                                                    \n",
       "AAPL   2015-11-25 00:00:00+00:00  27.334400  27.612307  27.308926  27.607675   \n",
       "       2015-11-27 00:00:00+00:00  27.283451  27.422404  27.234817  27.394613   \n",
       "       2015-11-30 00:00:00+00:00  27.396929  27.653993  27.269555  27.325137   \n",
       "       2015-12-01 00:00:00+00:00  27.174604  27.515039  27.063442  27.501144   \n",
       "       2015-12-02 00:00:00+00:00  26.929120  27.352927  26.882803  27.107443   \n",
       "\n",
       "                                  adjVolume  divCash  splitFactor  \n",
       "symbol date                                                        \n",
       "AAPL   2015-11-25 00:00:00+00:00   85553232      0.0          1.0  \n",
       "       2015-11-27 00:00:00+00:00   52185780      0.0          1.0  \n",
       "       2015-11-30 00:00:00+00:00  156721288      0.0          1.0  \n",
       "       2015-12-01 00:00:00+00:00  139409496      0.0          1.0  \n",
       "       2015-12-02 00:00:00+00:00  133546252      0.0          1.0  "
      ]
     },
     "execution_count": 6,
     "metadata": {},
     "output_type": "execute_result"
    }
   ],
   "source": [
    "df.head()"
   ]
  },
  {
   "cell_type": "code",
   "execution_count": 7,
   "metadata": {},
   "outputs": [],
   "source": [
    "df.to_csv('AAPL.csv')"
   ]
  },
  {
   "cell_type": "code",
   "execution_count": 8,
   "metadata": {},
   "outputs": [],
   "source": [
    "df = pd.read_csv(\"AAPL.csv\")"
   ]
  },
  {
   "cell_type": "code",
   "execution_count": 9,
   "metadata": {},
   "outputs": [
    {
     "data": {
      "text/html": [
       "<div>\n",
       "<style scoped>\n",
       "    .dataframe tbody tr th:only-of-type {\n",
       "        vertical-align: middle;\n",
       "    }\n",
       "\n",
       "    .dataframe tbody tr th {\n",
       "        vertical-align: top;\n",
       "    }\n",
       "\n",
       "    .dataframe thead th {\n",
       "        text-align: right;\n",
       "    }\n",
       "</style>\n",
       "<table border=\"1\" class=\"dataframe\">\n",
       "  <thead>\n",
       "    <tr style=\"text-align: right;\">\n",
       "      <th></th>\n",
       "      <th>symbol</th>\n",
       "      <th>date</th>\n",
       "      <th>close</th>\n",
       "      <th>high</th>\n",
       "      <th>low</th>\n",
       "      <th>open</th>\n",
       "      <th>volume</th>\n",
       "      <th>adjClose</th>\n",
       "      <th>adjHigh</th>\n",
       "      <th>adjLow</th>\n",
       "      <th>adjOpen</th>\n",
       "      <th>adjVolume</th>\n",
       "      <th>divCash</th>\n",
       "      <th>splitFactor</th>\n",
       "    </tr>\n",
       "  </thead>\n",
       "  <tbody>\n",
       "    <tr>\n",
       "      <td>1252</td>\n",
       "      <td>AAPL</td>\n",
       "      <td>2020-11-16 00:00:00+00:00</td>\n",
       "      <td>120.30</td>\n",
       "      <td>120.9900</td>\n",
       "      <td>118.146</td>\n",
       "      <td>118.92</td>\n",
       "      <td>91183018</td>\n",
       "      <td>120.30</td>\n",
       "      <td>120.9900</td>\n",
       "      <td>118.146</td>\n",
       "      <td>118.92</td>\n",
       "      <td>91183018</td>\n",
       "      <td>0.0</td>\n",
       "      <td>1.0</td>\n",
       "    </tr>\n",
       "    <tr>\n",
       "      <td>1253</td>\n",
       "      <td>AAPL</td>\n",
       "      <td>2020-11-17 00:00:00+00:00</td>\n",
       "      <td>119.39</td>\n",
       "      <td>120.6741</td>\n",
       "      <td>118.960</td>\n",
       "      <td>119.55</td>\n",
       "      <td>74270973</td>\n",
       "      <td>119.39</td>\n",
       "      <td>120.6741</td>\n",
       "      <td>118.960</td>\n",
       "      <td>119.55</td>\n",
       "      <td>74270973</td>\n",
       "      <td>0.0</td>\n",
       "      <td>1.0</td>\n",
       "    </tr>\n",
       "    <tr>\n",
       "      <td>1254</td>\n",
       "      <td>AAPL</td>\n",
       "      <td>2020-11-18 00:00:00+00:00</td>\n",
       "      <td>118.03</td>\n",
       "      <td>119.8200</td>\n",
       "      <td>118.000</td>\n",
       "      <td>118.61</td>\n",
       "      <td>76322111</td>\n",
       "      <td>118.03</td>\n",
       "      <td>119.8200</td>\n",
       "      <td>118.000</td>\n",
       "      <td>118.61</td>\n",
       "      <td>76322111</td>\n",
       "      <td>0.0</td>\n",
       "      <td>1.0</td>\n",
       "    </tr>\n",
       "    <tr>\n",
       "      <td>1255</td>\n",
       "      <td>AAPL</td>\n",
       "      <td>2020-11-19 00:00:00+00:00</td>\n",
       "      <td>118.64</td>\n",
       "      <td>119.0600</td>\n",
       "      <td>116.810</td>\n",
       "      <td>117.59</td>\n",
       "      <td>74112972</td>\n",
       "      <td>118.64</td>\n",
       "      <td>119.0600</td>\n",
       "      <td>116.810</td>\n",
       "      <td>117.59</td>\n",
       "      <td>74112972</td>\n",
       "      <td>0.0</td>\n",
       "      <td>1.0</td>\n",
       "    </tr>\n",
       "    <tr>\n",
       "      <td>1256</td>\n",
       "      <td>AAPL</td>\n",
       "      <td>2020-11-20 00:00:00+00:00</td>\n",
       "      <td>117.34</td>\n",
       "      <td>118.7700</td>\n",
       "      <td>117.290</td>\n",
       "      <td>118.64</td>\n",
       "      <td>73604287</td>\n",
       "      <td>117.34</td>\n",
       "      <td>118.7700</td>\n",
       "      <td>117.290</td>\n",
       "      <td>118.64</td>\n",
       "      <td>73604287</td>\n",
       "      <td>0.0</td>\n",
       "      <td>1.0</td>\n",
       "    </tr>\n",
       "  </tbody>\n",
       "</table>\n",
       "</div>"
      ],
      "text/plain": [
       "     symbol                       date   close      high      low    open  \\\n",
       "1252   AAPL  2020-11-16 00:00:00+00:00  120.30  120.9900  118.146  118.92   \n",
       "1253   AAPL  2020-11-17 00:00:00+00:00  119.39  120.6741  118.960  119.55   \n",
       "1254   AAPL  2020-11-18 00:00:00+00:00  118.03  119.8200  118.000  118.61   \n",
       "1255   AAPL  2020-11-19 00:00:00+00:00  118.64  119.0600  116.810  117.59   \n",
       "1256   AAPL  2020-11-20 00:00:00+00:00  117.34  118.7700  117.290  118.64   \n",
       "\n",
       "        volume  adjClose   adjHigh   adjLow  adjOpen  adjVolume  divCash  \\\n",
       "1252  91183018    120.30  120.9900  118.146   118.92   91183018      0.0   \n",
       "1253  74270973    119.39  120.6741  118.960   119.55   74270973      0.0   \n",
       "1254  76322111    118.03  119.8200  118.000   118.61   76322111      0.0   \n",
       "1255  74112972    118.64  119.0600  116.810   117.59   74112972      0.0   \n",
       "1256  73604287    117.34  118.7700  117.290   118.64   73604287      0.0   \n",
       "\n",
       "      splitFactor  \n",
       "1252          1.0  \n",
       "1253          1.0  \n",
       "1254          1.0  \n",
       "1255          1.0  \n",
       "1256          1.0  "
      ]
     },
     "execution_count": 9,
     "metadata": {},
     "output_type": "execute_result"
    }
   ],
   "source": [
    "df.tail()"
   ]
  },
  {
   "cell_type": "code",
   "execution_count": 10,
   "metadata": {},
   "outputs": [
    {
     "data": {
      "text/html": [
       "<div>\n",
       "<style scoped>\n",
       "    .dataframe tbody tr th:only-of-type {\n",
       "        vertical-align: middle;\n",
       "    }\n",
       "\n",
       "    .dataframe tbody tr th {\n",
       "        vertical-align: top;\n",
       "    }\n",
       "\n",
       "    .dataframe thead th {\n",
       "        text-align: right;\n",
       "    }\n",
       "</style>\n",
       "<table border=\"1\" class=\"dataframe\">\n",
       "  <thead>\n",
       "    <tr style=\"text-align: right;\">\n",
       "      <th></th>\n",
       "      <th>symbol</th>\n",
       "      <th>date</th>\n",
       "      <th>close</th>\n",
       "      <th>high</th>\n",
       "      <th>low</th>\n",
       "      <th>open</th>\n",
       "      <th>volume</th>\n",
       "      <th>adjClose</th>\n",
       "      <th>adjHigh</th>\n",
       "      <th>adjLow</th>\n",
       "      <th>adjOpen</th>\n",
       "      <th>adjVolume</th>\n",
       "      <th>divCash</th>\n",
       "      <th>splitFactor</th>\n",
       "    </tr>\n",
       "  </thead>\n",
       "  <tbody>\n",
       "    <tr>\n",
       "      <td>0</td>\n",
       "      <td>AAPL</td>\n",
       "      <td>2015-11-25 00:00:00+00:00</td>\n",
       "      <td>118.03</td>\n",
       "      <td>119.23</td>\n",
       "      <td>117.92</td>\n",
       "      <td>119.21</td>\n",
       "      <td>21388308</td>\n",
       "      <td>27.334400</td>\n",
       "      <td>27.612307</td>\n",
       "      <td>27.308926</td>\n",
       "      <td>27.607675</td>\n",
       "      <td>85553232</td>\n",
       "      <td>0.0</td>\n",
       "      <td>1.0</td>\n",
       "    </tr>\n",
       "    <tr>\n",
       "      <td>1</td>\n",
       "      <td>AAPL</td>\n",
       "      <td>2015-11-27 00:00:00+00:00</td>\n",
       "      <td>117.81</td>\n",
       "      <td>118.41</td>\n",
       "      <td>117.60</td>\n",
       "      <td>118.29</td>\n",
       "      <td>13046445</td>\n",
       "      <td>27.283451</td>\n",
       "      <td>27.422404</td>\n",
       "      <td>27.234817</td>\n",
       "      <td>27.394613</td>\n",
       "      <td>52185780</td>\n",
       "      <td>0.0</td>\n",
       "      <td>1.0</td>\n",
       "    </tr>\n",
       "    <tr>\n",
       "      <td>2</td>\n",
       "      <td>AAPL</td>\n",
       "      <td>2015-11-30 00:00:00+00:00</td>\n",
       "      <td>118.30</td>\n",
       "      <td>119.41</td>\n",
       "      <td>117.75</td>\n",
       "      <td>117.99</td>\n",
       "      <td>39180322</td>\n",
       "      <td>27.396929</td>\n",
       "      <td>27.653993</td>\n",
       "      <td>27.269555</td>\n",
       "      <td>27.325137</td>\n",
       "      <td>156721288</td>\n",
       "      <td>0.0</td>\n",
       "      <td>1.0</td>\n",
       "    </tr>\n",
       "    <tr>\n",
       "      <td>3</td>\n",
       "      <td>AAPL</td>\n",
       "      <td>2015-12-01 00:00:00+00:00</td>\n",
       "      <td>117.34</td>\n",
       "      <td>118.81</td>\n",
       "      <td>116.86</td>\n",
       "      <td>118.75</td>\n",
       "      <td>34852374</td>\n",
       "      <td>27.174604</td>\n",
       "      <td>27.515039</td>\n",
       "      <td>27.063442</td>\n",
       "      <td>27.501144</td>\n",
       "      <td>139409496</td>\n",
       "      <td>0.0</td>\n",
       "      <td>1.0</td>\n",
       "    </tr>\n",
       "    <tr>\n",
       "      <td>4</td>\n",
       "      <td>AAPL</td>\n",
       "      <td>2015-12-02 00:00:00+00:00</td>\n",
       "      <td>116.28</td>\n",
       "      <td>118.11</td>\n",
       "      <td>116.08</td>\n",
       "      <td>117.05</td>\n",
       "      <td>33386563</td>\n",
       "      <td>26.929120</td>\n",
       "      <td>27.352927</td>\n",
       "      <td>26.882803</td>\n",
       "      <td>27.107443</td>\n",
       "      <td>133546252</td>\n",
       "      <td>0.0</td>\n",
       "      <td>1.0</td>\n",
       "    </tr>\n",
       "  </tbody>\n",
       "</table>\n",
       "</div>"
      ],
      "text/plain": [
       "  symbol                       date   close    high     low    open    volume  \\\n",
       "0   AAPL  2015-11-25 00:00:00+00:00  118.03  119.23  117.92  119.21  21388308   \n",
       "1   AAPL  2015-11-27 00:00:00+00:00  117.81  118.41  117.60  118.29  13046445   \n",
       "2   AAPL  2015-11-30 00:00:00+00:00  118.30  119.41  117.75  117.99  39180322   \n",
       "3   AAPL  2015-12-01 00:00:00+00:00  117.34  118.81  116.86  118.75  34852374   \n",
       "4   AAPL  2015-12-02 00:00:00+00:00  116.28  118.11  116.08  117.05  33386563   \n",
       "\n",
       "    adjClose    adjHigh     adjLow    adjOpen  adjVolume  divCash  splitFactor  \n",
       "0  27.334400  27.612307  27.308926  27.607675   85553232      0.0          1.0  \n",
       "1  27.283451  27.422404  27.234817  27.394613   52185780      0.0          1.0  \n",
       "2  27.396929  27.653993  27.269555  27.325137  156721288      0.0          1.0  \n",
       "3  27.174604  27.515039  27.063442  27.501144  139409496      0.0          1.0  \n",
       "4  26.929120  27.352927  26.882803  27.107443  133546252      0.0          1.0  "
      ]
     },
     "execution_count": 10,
     "metadata": {},
     "output_type": "execute_result"
    }
   ],
   "source": [
    "df.head()"
   ]
  },
  {
   "cell_type": "code",
   "execution_count": 11,
   "metadata": {},
   "outputs": [
    {
     "data": {
      "text/plain": [
       "(1257, 14)"
      ]
     },
     "execution_count": 11,
     "metadata": {},
     "output_type": "execute_result"
    }
   ],
   "source": [
    "df.shape"
   ]
  },
  {
   "cell_type": "code",
   "execution_count": 12,
   "metadata": {},
   "outputs": [
    {
     "name": "stdout",
     "output_type": "stream",
     "text": [
      "<class 'pandas.core.frame.DataFrame'>\n",
      "RangeIndex: 1257 entries, 0 to 1256\n",
      "Data columns (total 14 columns):\n",
      "symbol         1257 non-null object\n",
      "date           1257 non-null object\n",
      "close          1257 non-null float64\n",
      "high           1257 non-null float64\n",
      "low            1257 non-null float64\n",
      "open           1257 non-null float64\n",
      "volume         1257 non-null int64\n",
      "adjClose       1257 non-null float64\n",
      "adjHigh        1257 non-null float64\n",
      "adjLow         1257 non-null float64\n",
      "adjOpen        1257 non-null float64\n",
      "adjVolume      1257 non-null int64\n",
      "divCash        1257 non-null float64\n",
      "splitFactor    1257 non-null float64\n",
      "dtypes: float64(10), int64(2), object(2)\n",
      "memory usage: 137.6+ KB\n"
     ]
    }
   ],
   "source": [
    "df.shape\n",
    "df.info()"
   ]
  },
  {
   "cell_type": "code",
   "execution_count": 13,
   "metadata": {},
   "outputs": [],
   "source": [
    "#Reseting the Index an creating a new column with CLOSE variable\n",
    "df1 = df.reset_index()['close'] "
   ]
  },
  {
   "cell_type": "code",
   "execution_count": 14,
   "metadata": {},
   "outputs": [
    {
     "data": {
      "text/plain": [
       "(1257,)"
      ]
     },
     "execution_count": 14,
     "metadata": {},
     "output_type": "execute_result"
    }
   ],
   "source": [
    "df1.shape"
   ]
  },
  {
   "cell_type": "code",
   "execution_count": 15,
   "metadata": {},
   "outputs": [
    {
     "data": {
      "text/plain": [
       "0    118.03\n",
       "1    117.81\n",
       "2    118.30\n",
       "3    117.34\n",
       "4    116.28\n",
       "Name: close, dtype: float64"
      ]
     },
     "execution_count": 15,
     "metadata": {},
     "output_type": "execute_result"
    }
   ],
   "source": [
    "df1.head()"
   ]
  },
  {
   "cell_type": "markdown",
   "metadata": {},
   "source": [
    "### Ploting the close Data"
   ]
  },
  {
   "cell_type": "code",
   "execution_count": 16,
   "metadata": {},
   "outputs": [
    {
     "data": {
      "text/plain": [
       "<Figure size 640x480 with 1 Axes>"
      ]
     },
     "metadata": {},
     "output_type": "display_data"
    }
   ],
   "source": [
    "import matplotlib.pyplot as plt\n",
    "plt.plot(df1)\n",
    "plt.show()"
   ]
  },
  {
   "cell_type": "markdown",
   "metadata": {},
   "source": [
    "## Scaling the Data"
   ]
  },
  {
   "cell_type": "code",
   "execution_count": 17,
   "metadata": {},
   "outputs": [],
   "source": [
    "##LSTM are sensitive to the scale of the data, so we apply MinMax scaling"
   ]
  },
  {
   "cell_type": "code",
   "execution_count": 18,
   "metadata": {},
   "outputs": [],
   "source": [
    "from sklearn.preprocessing import MinMaxScaler\n",
    "scaler =  MinMaxScaler(feature_range=(0,1))\n",
    "df1 = scaler.fit_transform(np.array(df1).reshape(-1,1))"
   ]
  },
  {
   "cell_type": "code",
   "execution_count": 19,
   "metadata": {},
   "outputs": [
    {
     "data": {
      "text/plain": [
       "(1257, 1)"
      ]
     },
     "execution_count": 19,
     "metadata": {},
     "output_type": "execute_result"
    }
   ],
   "source": [
    "df1.shape"
   ]
  },
  {
   "cell_type": "code",
   "execution_count": 20,
   "metadata": {},
   "outputs": [
    {
     "data": {
      "text/plain": [
       "array([[0.06660253],\n",
       "       [0.06607336],\n",
       "       [0.06725195],\n",
       "       ...,\n",
       "       [0.06660253],\n",
       "       [0.06806975],\n",
       "       [0.06494287]])"
      ]
     },
     "execution_count": 20,
     "metadata": {},
     "output_type": "execute_result"
    }
   ],
   "source": [
    "df1"
   ]
  },
  {
   "cell_type": "markdown",
   "metadata": {},
   "source": [
    "# Training and Testing the data"
   ]
  },
  {
   "cell_type": "raw",
   "metadata": {},
   "source": [
    "Time series data cannot split usinf cv or random seed technique.\n",
    "Also time series data is dependent on previous day data.\n"
   ]
  },
  {
   "cell_type": "code",
   "execution_count": 21,
   "metadata": {},
   "outputs": [],
   "source": [
    "training_size = int(len(df1)*0.65) #65% data are used for training data\n",
    "test_size=len(df1)-training_size\n",
    "train_data,test_data=df1[0:training_size,:],df1[training_size:len(df1),:]"
   ]
  },
  {
   "cell_type": "code",
   "execution_count": 22,
   "metadata": {},
   "outputs": [
    {
     "data": {
      "text/plain": [
       "(817, 440)"
      ]
     },
     "execution_count": 22,
     "metadata": {},
     "output_type": "execute_result"
    }
   ],
   "source": [
    "training_size,test_size # Shape of train and test data"
   ]
  },
  {
   "cell_type": "code",
   "execution_count": 23,
   "metadata": {},
   "outputs": [],
   "source": [
    "# Creating Function to train the model\n",
    "def create_dataset(dataset, time_step = 1):\n",
    "    dataX,dataY= [], [] \n",
    "    for i in range(len(dataset)-time_step-1): \n",
    "        a= dataset[i:(i+time_step),0]# i =0,1,2,3,4...100\n",
    "        dataX.append(a)\n",
    "        dataY.append(dataset[i + time_step, 0])\n",
    "    return np.array(dataX),np.array(dataY)"
   ]
  },
  {
   "cell_type": "code",
   "execution_count": 24,
   "metadata": {},
   "outputs": [],
   "source": [
    "time_step = 100\n",
    "X_train,y_train =create_dataset(train_data,time_step)\n",
    "X_test,y_test = create_dataset(test_data,time_step)"
   ]
  },
  {
   "cell_type": "code",
   "execution_count": 25,
   "metadata": {},
   "outputs": [
    {
     "name": "stdout",
     "output_type": "stream",
     "text": [
      "(716, 100)\n"
     ]
    }
   ],
   "source": [
    "print(X_train.shape)"
   ]
  },
  {
   "cell_type": "code",
   "execution_count": 26,
   "metadata": {},
   "outputs": [],
   "source": [
    "# reshape input to be 3D which is Req is LSTM\n",
    "X_train = X_train.reshape(X_train.shape[0],X_train.shape[1],1)\n",
    "X_test = X_test.reshape(X_test.shape[0],X_test.shape[1],1)"
   ]
  },
  {
   "cell_type": "code",
   "execution_count": 27,
   "metadata": {},
   "outputs": [
    {
     "data": {
      "text/plain": [
       "((716, 100, 1), (339, 100, 1))"
      ]
     },
     "execution_count": 27,
     "metadata": {},
     "output_type": "execute_result"
    }
   ],
   "source": [
    "X_train.shape,X_test.shape"
   ]
  },
  {
   "cell_type": "markdown",
   "metadata": {},
   "source": [
    "## Model Preparation"
   ]
  },
  {
   "cell_type": "code",
   "execution_count": 28,
   "metadata": {},
   "outputs": [],
   "source": [
    "# Libraries rq for LSTM model\n",
    "\n",
    "from tensorflow.keras.models import Sequential\n",
    "from tensorflow.keras.layers import Dense\n",
    "from tensorflow.keras.layers import LSTM\n"
   ]
  },
  {
   "cell_type": "code",
   "execution_count": 29,
   "metadata": {},
   "outputs": [],
   "source": [
    "model = Sequential()\n",
    "model.add(LSTM(50,return_sequences=True,input_shape=(100,1)))\n",
    "model.add(LSTM(50,return_sequences=True))\n",
    "model.add(LSTM(50))\n",
    "model.add(Dense(1))\n",
    "model.compile(loss = 'mean_squared_error',optimizer='adam')"
   ]
  },
  {
   "cell_type": "code",
   "execution_count": 30,
   "metadata": {},
   "outputs": [
    {
     "name": "stdout",
     "output_type": "stream",
     "text": [
      "Model: \"sequential\"\n",
      "_________________________________________________________________\n",
      "Layer (type)                 Output Shape              Param #   \n",
      "=================================================================\n",
      "lstm (LSTM)                  (None, 100, 50)           10400     \n",
      "_________________________________________________________________\n",
      "lstm_1 (LSTM)                (None, 100, 50)           20200     \n",
      "_________________________________________________________________\n",
      "lstm_2 (LSTM)                (None, 50)                20200     \n",
      "_________________________________________________________________\n",
      "dense (Dense)                (None, 1)                 51        \n",
      "=================================================================\n",
      "Total params: 50,851\n",
      "Trainable params: 50,851\n",
      "Non-trainable params: 0\n",
      "_________________________________________________________________\n"
     ]
    }
   ],
   "source": [
    "model.summary()"
   ]
  },
  {
   "cell_type": "code",
   "execution_count": null,
   "metadata": {
    "scrolled": true
   },
   "outputs": [
    {
     "name": "stdout",
     "output_type": "stream",
     "text": [
      "Epoch 1/100\n",
      "12/12 [==============================] - 2s 146ms/step - loss: 0.0072 - val_loss: 0.0536\n",
      "Epoch 2/100\n",
      "12/12 [==============================] - 1s 116ms/step - loss: 0.0021 - val_loss: 0.0213\n",
      "Epoch 3/100\n",
      "12/12 [==============================] - 1s 118ms/step - loss: 6.5273e-04 - val_loss: 0.0211\n",
      "Epoch 4/100\n",
      "12/12 [==============================] - ETA: 0s - loss: 4.2195e-04"
     ]
    }
   ],
   "source": [
    "model.fit(X_train,y_train,validation_data=(X_test,y_test),epochs = 100,batch_size=64,verbose=1)"
   ]
  },
  {
   "cell_type": "code",
   "execution_count": null,
   "metadata": {},
   "outputs": [],
   "source": [
    "import tensorflow as tf"
   ]
  },
  {
   "cell_type": "code",
   "execution_count": null,
   "metadata": {},
   "outputs": [],
   "source": [
    "#Lets do the prediction and check performance metrics\n",
    "train_predict = model.predict(X_train)\n",
    "test_predict = model.predict(X_test)"
   ]
  },
  {
   "cell_type": "code",
   "execution_count": null,
   "metadata": {},
   "outputs": [],
   "source": [
    "#transformback to original form\n",
    "train_predict = scaler.inverse_transform(train_predict)\n",
    "test_predict = scaler.inverse_transform(test_predict)"
   ]
  },
  {
   "cell_type": "code",
   "execution_count": null,
   "metadata": {},
   "outputs": [],
   "source": [
    "## calculate RMSE performance metrics for training data\n",
    "from sklearn.metrics import mean_squared_error\n",
    "np.sqrt(mean_squared_error(y_train,train_predict))"
   ]
  },
  {
   "cell_type": "code",
   "execution_count": null,
   "metadata": {},
   "outputs": [],
   "source": [
    "## calculate RMSE performance metrics for testing data\n",
    "np.sqrt(mean_squared_error(y_test,test_predict))"
   ]
  },
  {
   "cell_type": "code",
   "execution_count": null,
   "metadata": {},
   "outputs": [],
   "source": [
    "#Shift train predictions for plotting\n",
    "look_back = 100\n",
    "trainpredictplot = np.empty_like(df1)\n",
    "trainpredictplot[:,:] = np.nan\n",
    "trainpredictplot[look_back:len(train_predict)+look_back,:] = train_predict\n",
    "\n",
    "#shift test predictions for plotting\n",
    "testpredicplot = np.empty_like(df1)\n",
    "testpredicplot[:,:] = np.nan\n",
    "testpredicplot[len(train_predict)+(look_back*2)+1:len(df1)-1,:]=test_predict\n",
    "\n",
    "# plot baseline and predictions\n",
    "plt.plot(scaler.inverse_transform(df1))\n",
    "plt.plot(trainpredictplot)\n",
    "plt.plot(testpredicplot)\n",
    "plt.show()"
   ]
  },
  {
   "cell_type": "code",
   "execution_count": null,
   "metadata": {},
   "outputs": [],
   "source": [
    "plt.plot(scaler.inverse_transform(df1))"
   ]
  },
  {
   "cell_type": "code",
   "execution_count": null,
   "metadata": {},
   "outputs": [],
   "source": [
    "plt.plot(trainpredictplot)"
   ]
  },
  {
   "cell_type": "code",
   "execution_count": null,
   "metadata": {},
   "outputs": [],
   "source": [
    "plt.plot(testpredicplot)"
   ]
  },
  {
   "cell_type": "markdown",
   "metadata": {},
   "source": [
    "## Predicting for next 30 Days"
   ]
  },
  {
   "cell_type": "code",
   "execution_count": null,
   "metadata": {},
   "outputs": [],
   "source": [
    "\n",
    "#test_data for previous 100 days, we will use this data for predicting next 30 days\n",
    "\n",
    "temp_input = test_data[340:].reshape(1,-1) # taking last 100 values from test_data\n",
    "temp_input= temp_input[0].tolist() ## taking 1D value from temp_input array and converting into list\n",
    "\n",
    "\n",
    "predictions=[]                                \n",
    "for i in range(1,31):                                                      \n",
    "    if i == 1:                                                            #here we are taking i=1 because we would be predicting based on predefined 100 data points and from else part we would be predicting based on LIFO data points\n",
    "        temp_input_arr= np.array(temp_input)                              #converting the list of 100 previous data into an array\n",
    "        temp_input_arr= temp_input_arr.reshape(1, len(temp_input),1)      #reshaping array to 3d as per the requirement of tensorflow model\n",
    "        y_hat1= model.predict(temp_input_arr)                             #predicting the value when i=1 using tensorflow model\n",
    "        temp_input.extend(y_hat1[0].tolist())                             #extending and converting to list the y_hat predicted value to temp_input list\n",
    "        predictions.extend(y_hat1[0].tolist())                            #storing the y_hat value to a 30 days prediction list\n",
    "        print(\"day {} input {}\". format(i,temp_input))\n",
    "        print('prediction for day', i, y_hat1)\n",
    "        print('======================================================')\n",
    "       \n",
    "    else:\n",
    "        temp_input= temp_input[1:]                                       #transforming the temp_input list such that is has last 100 data points for the prediction of next day, means we are indexing is such a way that it removes the first element and adding the new prediction value\n",
    "        temp_input_arr= np.array(temp_input)                             # again converting the list of 100 data into an array\n",
    "        temp_input_arr= temp_input_arr.reshape(1, len(temp_input),1)     #reshaping array to 3d as per the requirement of tensorflow model\n",
    "        y_hat1= model.predict(temp_input_arr)                            #predicting the value using tensorflow model\n",
    "        temp_input.extend(y_hat1[0].tolist())                            #extending and converting to list the y_hat predicted value to temp_input list\n",
    "        predictions.extend(y_hat1[0].tolist())                           #storing the y_hat value to a 30 days prediction list\n",
    "        print(\"day {} input {}\". format(i,temp_input))\n",
    "        print('prediction for day', i, y_hat1)\n",
    "        print('======================================================')\n",
    "\n",
    "\n",
    "print('Predictions for next 30 days: ', '\\n', predictions)\n"
   ]
  },
  {
   "cell_type": "code",
   "execution_count": null,
   "metadata": {},
   "outputs": [],
   "source": [
    "x_input=test_data[340:].reshape(1,-1)\n",
    "x_input.shape\n"
   ]
  },
  {
   "cell_type": "code",
   "execution_count": null,
   "metadata": {},
   "outputs": [],
   "source": [
    "\n",
    "temp_input=list(x_input)\n",
    "temp_input=temp_input[0].tolist()"
   ]
  },
  {
   "cell_type": "code",
   "execution_count": null,
   "metadata": {},
   "outputs": [],
   "source": [
    "# demonstrate prediction for next 10 days\n",
    "\n",
    "\n",
    "\n",
    "\n",
    "from numpy import array\n",
    "\n",
    "lst_output=[]\n",
    "n_steps=100\n",
    "i=0\n",
    "while(i<30):\n",
    "    \n",
    "    if(len(temp_input)>100):\n",
    "        #print(temp_input)\n",
    "        x_input=np.array(temp_input[1:])\n",
    "        print(\"{} day input {}\".format(i,x_input))\n",
    "        x_input=x_input.reshape(1,-1)\n",
    "        x_input = x_input.reshape((1, n_steps, 1))\n",
    "        #print(x_input)\n",
    "        yhat = model.predict(x_input, verbose=0)\n",
    "        print(\"{} day output {}\".format(i,yhat))\n",
    "        temp_input.extend(yhat[0].tolist())\n",
    "        temp_input=temp_input[1:]\n",
    "        #print(temp_input)\n",
    "        lst_output.extend(yhat.tolist())\n",
    "        i=i+1\n",
    "    else:\n",
    "        x_input = x_input.reshape((1, n_steps,1))\n",
    "        yhat = model.predict(x_input, verbose=0)\n",
    "        print(yhat[0])\n",
    "        temp_input.extend(yhat[0].tolist())\n",
    "        print(len(temp_input))\n",
    "        lst_output.extend(yhat.tolist())\n",
    "        i=i+1\n",
    "    \n",
    "\n",
    "print(lst_output)\n"
   ]
  },
  {
   "cell_type": "code",
   "execution_count": null,
   "metadata": {},
   "outputs": [],
   "source": [
    "day_new = np.arange(1,101)\n",
    "day_pred= np.arange(101,131)\n",
    "prediction_100days = scaler.inverse_transform(df1[1157:])\n",
    "predictions_30days = scaler.inverse_transform(np.array(predictions).reshape(-1,1))"
   ]
  },
  {
   "cell_type": "code",
   "execution_count": null,
   "metadata": {},
   "outputs": [],
   "source": [
    "predictions_30days"
   ]
  },
  {
   "cell_type": "code",
   "execution_count": null,
   "metadata": {},
   "outputs": [],
   "source": [
    "plt.plot(day_new,prediction_100days)\n",
    "plt.plot(day_pred,predictions_30days)\n",
    "plt.show()"
   ]
  },
  {
   "cell_type": "code",
   "execution_count": null,
   "metadata": {},
   "outputs": [],
   "source": [
    "dt = prediction_100days.reshape(-1,).tolist()\n",
    "dt.extend(predictions_30days.reshape(-1,).tolist())"
   ]
  },
  {
   "cell_type": "code",
   "execution_count": null,
   "metadata": {},
   "outputs": [],
   "source": [
    "df3= pd.DataFrame()\n",
    "df3['Predictions'] = dt\n",
    "df3.index = df3.index + 1\n",
    "df3.index.set_names('Days',inplace=True)"
   ]
  },
  {
   "cell_type": "code",
   "execution_count": null,
   "metadata": {},
   "outputs": [],
   "source": [
    "df3"
   ]
  },
  {
   "cell_type": "code",
   "execution_count": null,
   "metadata": {},
   "outputs": [],
   "source": [
    "plt.plot(df3)"
   ]
  }
 ],
 "metadata": {
  "kernelspec": {
   "display_name": "Python 3",
   "language": "python",
   "name": "python3"
  },
  "language_info": {
   "codemirror_mode": {
    "name": "ipython",
    "version": 3
   },
   "file_extension": ".py",
   "mimetype": "text/x-python",
   "name": "python",
   "nbconvert_exporter": "python",
   "pygments_lexer": "ipython3",
   "version": "3.7.4"
  }
 },
 "nbformat": 4,
 "nbformat_minor": 2
}
